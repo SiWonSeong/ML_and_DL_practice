{
 "cells": [
  {
   "cell_type": "markdown",
   "metadata": {},
   "source": [
    "# 1. 파이썬 기초"
   ]
  },
  {
   "cell_type": "markdown",
   "metadata": {},
   "source": [
    "## 프린트"
   ]
  },
  {
   "cell_type": "code",
   "execution_count": 1,
   "metadata": {},
   "outputs": [
    {
     "name": "stdout",
     "output_type": "stream",
     "text": [
      "Hello, world\n",
      "정수: 3, 03, 003, 0003, 00003\n",
      "실수: 256, 256.1, 256.12\n",
      "문자열: [Hello, world]\n"
     ]
    }
   ],
   "source": [
    "print(\"Hello, world\")\n",
    "\n",
    "# integer\n",
    "x = 3\n",
    "print(\"정수: %01d, %02d, %03d, %04d, %05d\"\n",
    "     % (x, x, x, x, x))\n",
    "\n",
    "# float\n",
    "x= 256.123\n",
    "print(\"실수: %.0f, %.1f, %.2f\"\n",
    "     % (x, x, x))\n",
    "\n",
    "# string\n",
    "x = \"Hello, world\"\n",
    "print(\"문자열: [%s]\" % (x))"
   ]
  },
  {
   "cell_type": "markdown",
   "metadata": {},
   "source": [
    "## 반복문, 조건문"
   ]
  },
  {
   "cell_type": "code",
   "execution_count": 2,
   "metadata": {},
   "outputs": [
    {
     "name": "stdout",
     "output_type": "stream",
     "text": [
      "Regression 은(는) 기계학습 내용입니다.\n",
      "Classification 은(는) 기계학습 내용입니다.\n",
      "SVM 은(는) 기계학습 내용입니다.\n",
      "Clustering 은(는) 기계학습 내용입니다.\n",
      "Demesion reduction 은(는) 기계학습 내용입니다.\n",
      "NN 은(는) 심층학습 내용입니다.\n",
      "CNN 은(는) convolutional neural network 입니다.\n",
      "AE 은(는) 심층학습 내용입니다.\n",
      "GAN 은(는) 심층학습 내용입니다.\n",
      "RNN 은(는) 심층학습 내용입니다.\n"
     ]
    }
   ],
   "source": [
    "contents = [\"Regression\", \"Classification\", \"SVM\", \"Clustering\", \"Demesion reduction\",\n",
    "            \"NN\", \"CNN\", \"AE\", \"GAN\", \"RNN\"]\n",
    "\n",
    "for con in contents:\n",
    "    if con in [\"Regression\", \"Classification\", \"SVM\", \"Clustering\", \"Demesion reduction\"]:\n",
    "        print (\"%s 은(는) 기계학습 내용입니다.\" %con)\n",
    "    elif con in [\"CNN\"]:\n",
    "        print (\"%s 은(는) convolutional neural network 입니다.\" %con)\n",
    "    else:\n",
    "        print (\"%s 은(는) 심층학습 내용입니다.\" %con)"
   ]
  },
  {
   "cell_type": "markdown",
   "metadata": {},
   "source": [
    "## 반복문과 인덱스"
   ]
  },
  {
   "cell_type": "code",
   "execution_count": 3,
   "metadata": {},
   "outputs": [
    {
     "name": "stdout",
     "output_type": "stream",
     "text": [
      "[0/10]: Regression\n",
      "[1/10]: Classification\n",
      "[2/10]: SVM\n",
      "[3/10]: Clustering\n",
      "[4/10]: Demesion reduction\n",
      "[5/10]: NN\n",
      "[6/10]: CNN\n",
      "[7/10]: AE\n",
      "[8/10]: GAN\n",
      "[9/10]: RNN\n"
     ]
    }
   ],
   "source": [
    "for(i, con) in enumerate(contents):\n",
    "    print(\"[%d/%d]: %s\" %(i, len(contents), con))\n",
    "    \n",
    "# enumerate → 데이터를 하나씩 처리해야 할 때 유용"
   ]
  },
  {
   "cell_type": "markdown",
   "metadata": {},
   "source": [
    "## 함수"
   ]
  },
  {
   "cell_type": "code",
   "execution_count": 4,
   "metadata": {},
   "outputs": [
    {
     "name": "stdout",
     "output_type": "stream",
     "text": [
      "10.0 + 20.0 = 30.0\n"
     ]
    }
   ],
   "source": [
    "def sum(a,b):\n",
    "    return a+b\n",
    "\n",
    "x = 10.0\n",
    "y = 20.0\n",
    "print(\"%.1f + %.1f = %.1f\" %(x, y, sum(x,y)))"
   ]
  },
  {
   "cell_type": "markdown",
   "metadata": {},
   "source": [
    "## 리스트"
   ]
  },
  {
   "cell_type": "code",
   "execution_count": 5,
   "metadata": {},
   "outputs": [
    {
     "name": "stdout",
     "output_type": "stream",
     "text": [
      "[]\n",
      "['a']\n",
      "['a', 123]\n",
      "['a', 123, ['a', 'b']]\n"
     ]
    }
   ],
   "source": [
    "a = []\n",
    "b = [1, 2, 3]\n",
    "c = [\"Hello\", \",\", \"world\"]\n",
    "d = [1, 2, 3, \"x\", \"y\", \"z\"]\n",
    "x = []\n",
    "print(x)\n",
    "\n",
    "x.append('a')\n",
    "print(x)\n",
    "\n",
    "x.append(123)\n",
    "print(x)\n",
    "\n",
    "x.append([\"a\", \"b\"])\n",
    "print(x)"
   ]
  },
  {
   "cell_type": "markdown",
   "metadata": {},
   "source": [
    "## 딕셔너리(dictionary)"
   ]
  },
  {
   "cell_type": "code",
   "execution_count": 6,
   "metadata": {},
   "outputs": [
    {
     "name": "stdout",
     "output_type": "stream",
     "text": [
      "{'name': 'Heekyung', 'town': 'Goyang city', 'job': 'Assistant professor'}\n"
     ]
    }
   ],
   "source": [
    "dic = dict()\n",
    "dic[\"name\"] = \"Heekyung\"\n",
    "dic[\"town\"] = \"Goyang city\"\n",
    "dic[\"job\"] = \"Assistant professor\"\n",
    "print(dic)"
   ]
  },
  {
   "cell_type": "markdown",
   "metadata": {},
   "source": [
    "## 클래스"
   ]
  },
  {
   "cell_type": "code",
   "execution_count": 7,
   "metadata": {
    "scrolled": true
   },
   "outputs": [
    {
     "name": "stdout",
     "output_type": "stream",
     "text": [
      "Heekyung 학생은 공부합니다.\n",
      "Heekyung 학생은 열심히 공부합니다.\n"
     ]
    }
   ],
   "source": [
    "class Student:\n",
    "    # 생성자\n",
    "    def __init__(self,name):\n",
    "        self.name = name\n",
    "    # 메써드\n",
    "    def study(self, hard = False):\n",
    "        if hard:\n",
    "            print(\"%s 학생은 열심히 공부합니다.\" %self.name)\n",
    "        else:\n",
    "            print(\"%s 학생은 공부합니다.\" %self.name)\n",
    "            \n",
    "s = Student('Heekyung')\n",
    "s.study()\n",
    "s.study(hard=True)\n",
    "\n",
    "# example\n",
    "# 1. 뉴럴 네트워크를 클래스로 선언\n",
    "# 2. 그 네트워크를 필요할 때마다 부른다.\n",
    "\n",
    "# \"핵심이 되는 구조를 클래스로 만든다.\""
   ]
  },
  {
   "cell_type": "markdown",
   "metadata": {},
   "source": [
    "# 2. 벡터, 행렬 연산, 그래프 그리기"
   ]
  },
  {
   "cell_type": "code",
   "execution_count": 8,
   "metadata": {},
   "outputs": [],
   "source": [
    "import numpy as np"
   ]
  },
  {
   "cell_type": "markdown",
   "metadata": {},
   "source": [
    "## 프린트"
   ]
  },
  {
   "cell_type": "code",
   "execution_count": 9,
   "metadata": {},
   "outputs": [],
   "source": [
    "def print_val(x):\n",
    "    print(\"Type:\", type(x))\n",
    "    print(\"Shape\", x.shape)\n",
    "    print(\"값:\\n\", x)\n",
    "    print(\"\")\n",
    "\n",
    "# 연산 후 확인용"
   ]
  },
  {
   "cell_type": "markdown",
   "metadata": {},
   "source": [
    "## rank 0 np array"
   ]
  },
  {
   "cell_type": "code",
   "execution_count": 10,
   "metadata": {},
   "outputs": [
    {
     "name": "stdout",
     "output_type": "stream",
     "text": [
      "Type: <class 'numpy.ndarray'>\n",
      "Shape ()\n",
      "값:\n",
      " 1\n",
      "\n"
     ]
    }
   ],
   "source": [
    "w = np.array(1) # [] 없음 - Scalar\n",
    "print_val(w)"
   ]
  },
  {
   "cell_type": "code",
   "execution_count": 11,
   "metadata": {},
   "outputs": [
    {
     "name": "stdout",
     "output_type": "stream",
     "text": [
      "2\n"
     ]
    }
   ],
   "source": [
    "print(w+1)"
   ]
  },
  {
   "cell_type": "markdown",
   "metadata": {},
   "source": [
    "## rank 1 np array"
   ]
  },
  {
   "cell_type": "code",
   "execution_count": 12,
   "metadata": {},
   "outputs": [
    {
     "name": "stdout",
     "output_type": "stream",
     "text": [
      "Type: <class 'numpy.ndarray'>\n",
      "Shape (3,)\n",
      "값:\n",
      " [1 2 3]\n",
      "\n",
      "Type: <class 'numpy.ndarray'>\n",
      "Shape (3,)\n",
      "값:\n",
      " [5 2 3]\n",
      "\n"
     ]
    }
   ],
   "source": [
    "x = np.array([1, 2, 3]) # [] 한겹 - Vector\n",
    "print_val(x)\n",
    "\n",
    "x[0] = 5\n",
    "print_val(x)"
   ]
  },
  {
   "cell_type": "markdown",
   "metadata": {},
   "source": [
    "## rank 2 np array"
   ]
  },
  {
   "cell_type": "code",
   "execution_count": 13,
   "metadata": {},
   "outputs": [
    {
     "name": "stdout",
     "output_type": "stream",
     "text": [
      "Type: <class 'numpy.ndarray'>\n",
      "Shape (2, 3)\n",
      "값:\n",
      " [[1 2 3]\n",
      " [4 5 6]]\n",
      "\n"
     ]
    }
   ],
   "source": [
    "y = np.array([[1, 2, 3], [4, 5, 6]]) # [] 두겹 - Matrix\n",
    "print_val(y)"
   ]
  },
  {
   "cell_type": "markdown",
   "metadata": {},
   "source": [
    "## rank 3 np array"
   ]
  },
  {
   "cell_type": "code",
   "execution_count": 14,
   "metadata": {},
   "outputs": [
    {
     "name": "stdout",
     "output_type": "stream",
     "text": [
      "Type: <class 'numpy.ndarray'>\n",
      "Shape (2, 2, 3)\n",
      "값:\n",
      " [[[ 1  2  3]\n",
      "  [ 4  5  6]]\n",
      "\n",
      " [[ 7  8  9]\n",
      "  [10 11 12]]]\n",
      "\n"
     ]
    }
   ],
   "source": [
    "z = np.array([[[1, 2, 3], [4, 5, 6]], [[7, 8, 9], [10, 11, 12]]]) # [] 세겹\n",
    "print_val(z)"
   ]
  },
  {
   "cell_type": "markdown",
   "metadata": {},
   "source": [
    "## rank 2 zeros"
   ]
  },
  {
   "cell_type": "code",
   "execution_count": 15,
   "metadata": {},
   "outputs": [
    {
     "name": "stdout",
     "output_type": "stream",
     "text": [
      "Type: <class 'numpy.ndarray'>\n",
      "Shape (2, 2)\n",
      "값:\n",
      " [[0. 0.]\n",
      " [0. 0.]]\n",
      "\n"
     ]
    }
   ],
   "source": [
    "a = np.zeros((2,2))\n",
    "print_val(a)"
   ]
  },
  {
   "cell_type": "markdown",
   "metadata": {},
   "source": [
    "## rank 2 ones"
   ]
  },
  {
   "cell_type": "code",
   "execution_count": 16,
   "metadata": {},
   "outputs": [
    {
     "name": "stdout",
     "output_type": "stream",
     "text": [
      "Type: <class 'numpy.ndarray'>\n",
      "Shape (3, 2)\n",
      "값:\n",
      " [[1. 1.]\n",
      " [1. 1.]\n",
      " [1. 1.]]\n",
      "\n"
     ]
    }
   ],
   "source": [
    "a = np.ones((3, 2))\n",
    "print_val(a)"
   ]
  },
  {
   "cell_type": "markdown",
   "metadata": {},
   "source": [
    "## rank 2 단위 행렬(iendtity matrix)"
   ]
  },
  {
   "cell_type": "code",
   "execution_count": 17,
   "metadata": {},
   "outputs": [
    {
     "name": "stdout",
     "output_type": "stream",
     "text": [
      "Type: <class 'numpy.ndarray'>\n",
      "Shape (3, 3)\n",
      "값:\n",
      " [[1. 0. 0.]\n",
      " [0. 1. 0.]\n",
      " [0. 0. 1.]]\n",
      "\n"
     ]
    }
   ],
   "source": [
    "a = np.eye(3,3)\n",
    "print_val(a)\n",
    "# a = np.eye((3,3)) → error!"
   ]
  },
  {
   "cell_type": "markdown",
   "metadata": {},
   "source": [
    "## 랜덤 행렬(uniform: 0~1 사이 모든 값들이 나올 확률이 같음)"
   ]
  },
  {
   "cell_type": "code",
   "execution_count": 18,
   "metadata": {},
   "outputs": [
    {
     "name": "stdout",
     "output_type": "stream",
     "text": [
      "Type: <class 'numpy.ndarray'>\n",
      "Shape (4, 4)\n",
      "값:\n",
      " [[0.85541757 0.81335037 0.44547731 0.15769327]\n",
      " [0.21478376 0.49464918 0.38040583 0.86990019]\n",
      " [0.2751575  0.26267314 0.4239434  0.59128482]\n",
      " [0.02763883 0.42598539 0.08563941 0.11436001]]\n",
      "\n"
     ]
    }
   ],
   "source": [
    "a = np.random.random((4, 4))\n",
    "print_val(a)"
   ]
  },
  {
   "cell_type": "markdown",
   "metadata": {},
   "source": [
    "## 랜덤 행렬(Gaussian: 0을 평균으로 하는 가우시안 분포를 따르는 랜덤 값)"
   ]
  },
  {
   "cell_type": "code",
   "execution_count": 19,
   "metadata": {},
   "outputs": [
    {
     "name": "stdout",
     "output_type": "stream",
     "text": [
      "Type: <class 'numpy.ndarray'>\n",
      "Shape (4, 4)\n",
      "값:\n",
      " [[ 0.55567481 -0.29733701  1.24838201 -0.02624842]\n",
      " [-0.7100074  -1.07540857  2.09506776  0.14749846]\n",
      " [-0.57456955  0.26948391  0.57434783  0.34745917]\n",
      " [-2.5310677  -1.31336491  0.86125228 -0.33323778]]\n",
      "\n"
     ]
    }
   ],
   "source": [
    "a = np.random.randn(4, 4)\n",
    "print_val(a)"
   ]
  },
  {
   "cell_type": "markdown",
   "metadata": {},
   "source": [
    "## np array indexing"
   ]
  },
  {
   "cell_type": "code",
   "execution_count": 20,
   "metadata": {},
   "outputs": [
    {
     "name": "stdout",
     "output_type": "stream",
     "text": [
      "Type: <class 'numpy.ndarray'>\n",
      "Shape (3, 4)\n",
      "값:\n",
      " [[ 1  2  3  4]\n",
      " [ 5  6  7  8]\n",
      " [ 9 10 11 12]]\n",
      "\n"
     ]
    }
   ],
   "source": [
    "a = np.array([[1, 2, 3, 4], [5, 6, 7, 8], [9, 10, 11, 12]])\n",
    "print_val(a)"
   ]
  },
  {
   "cell_type": "code",
   "execution_count": 21,
   "metadata": {},
   "outputs": [
    {
     "name": "stdout",
     "output_type": "stream",
     "text": [
      "Type: <class 'numpy.ndarray'>\n",
      "Shape (2, 2)\n",
      "값:\n",
      " [[2 3]\n",
      " [6 7]]\n",
      "\n"
     ]
    }
   ],
   "source": [
    "b = a[:2, 1:3] # 행 0~1, 열 1~2\n",
    "print_val(b)"
   ]
  },
  {
   "cell_type": "markdown",
   "metadata": {},
   "source": [
    "## 행렬의 n번째 행 얻기"
   ]
  },
  {
   "cell_type": "code",
   "execution_count": 22,
   "metadata": {},
   "outputs": [
    {
     "name": "stdout",
     "output_type": "stream",
     "text": [
      "Type: <class 'numpy.ndarray'>\n",
      "Shape (4,)\n",
      "값:\n",
      " [5 6 7 8]\n",
      "\n"
     ]
    }
   ],
   "source": [
    "row1 = a[1, :] # 1번째 행\n",
    "print_val(row1)"
   ]
  },
  {
   "cell_type": "markdown",
   "metadata": {},
   "source": [
    "## 행렬의 원소별 연산"
   ]
  },
  {
   "cell_type": "code",
   "execution_count": 23,
   "metadata": {},
   "outputs": [],
   "source": [
    "m1 = np.array([[1, 2], [3, 4]], dtype=np.float64)\n",
    "m2 = np.array([[5, 6], [7, 8]], dtype=np.float64)"
   ]
  },
  {
   "cell_type": "code",
   "execution_count": 24,
   "metadata": {},
   "outputs": [
    {
     "name": "stdout",
     "output_type": "stream",
     "text": [
      "Type: <class 'numpy.ndarray'>\n",
      "Shape (2, 2)\n",
      "값:\n",
      " [[ 6.  8.]\n",
      " [10. 12.]]\n",
      "\n",
      "Type: <class 'numpy.ndarray'>\n",
      "Shape (2, 2)\n",
      "값:\n",
      " [[ 6.  8.]\n",
      " [10. 12.]]\n",
      "\n"
     ]
    }
   ],
   "source": [
    "# elmentwise sum 덧셈\n",
    "print_val(m1 + m2)\n",
    "print_val(np.add(m1, m2))"
   ]
  },
  {
   "cell_type": "code",
   "execution_count": 25,
   "metadata": {},
   "outputs": [
    {
     "name": "stdout",
     "output_type": "stream",
     "text": [
      "Type: <class 'numpy.ndarray'>\n",
      "Shape (2, 2)\n",
      "값:\n",
      " [[-4. -4.]\n",
      " [-4. -4.]]\n",
      "\n",
      "Type: <class 'numpy.ndarray'>\n",
      "Shape (2, 2)\n",
      "값:\n",
      " [[-4. -4.]\n",
      " [-4. -4.]]\n",
      "\n"
     ]
    }
   ],
   "source": [
    "# elmentwise difference 뺄셈\n",
    "print_val(m1 - m2)\n",
    "print_val(np.subtract(m1, m2))"
   ]
  },
  {
   "cell_type": "code",
   "execution_count": 26,
   "metadata": {},
   "outputs": [
    {
     "name": "stdout",
     "output_type": "stream",
     "text": [
      "Type: <class 'numpy.ndarray'>\n",
      "Shape (2, 2)\n",
      "값:\n",
      " [[ 5. 12.]\n",
      " [21. 32.]]\n",
      "\n",
      "Type: <class 'numpy.ndarray'>\n",
      "Shape (2, 2)\n",
      "값:\n",
      " [[ 5. 12.]\n",
      " [21. 32.]]\n",
      "\n"
     ]
    }
   ],
   "source": [
    "# elmentwise product 곱셈\n",
    "print_val(m1 * m2)\n",
    "print_val(np.multiply(m1, m2))"
   ]
  },
  {
   "cell_type": "code",
   "execution_count": 27,
   "metadata": {},
   "outputs": [
    {
     "name": "stdout",
     "output_type": "stream",
     "text": [
      "Type: <class 'numpy.ndarray'>\n",
      "Shape (2, 2)\n",
      "값:\n",
      " [[0.2        0.33333333]\n",
      " [0.42857143 0.5       ]]\n",
      "\n",
      "Type: <class 'numpy.ndarray'>\n",
      "Shape (2, 2)\n",
      "값:\n",
      " [[0.2        0.33333333]\n",
      " [0.42857143 0.5       ]]\n",
      "\n"
     ]
    }
   ],
   "source": [
    "# elmentwise division 나눗셈\n",
    "print_val(m1 / m2)\n",
    "print_val(np.divide(m1, m2))"
   ]
  },
  {
   "cell_type": "code",
   "execution_count": 28,
   "metadata": {},
   "outputs": [
    {
     "name": "stdout",
     "output_type": "stream",
     "text": [
      "Type: <class 'numpy.ndarray'>\n",
      "Shape (2, 2)\n",
      "값:\n",
      " [[1.         1.41421356]\n",
      " [1.73205081 2.        ]]\n",
      "\n"
     ]
    }
   ],
   "source": [
    "# elmentwise square root 루트\n",
    "print_val(np.sqrt(m1))"
   ]
  },
  {
   "cell_type": "markdown",
   "metadata": {},
   "source": [
    "## 행렬연산"
   ]
  },
  {
   "cell_type": "code",
   "execution_count": 29,
   "metadata": {},
   "outputs": [
    {
     "name": "stdout",
     "output_type": "stream",
     "text": [
      "Type: <class 'numpy.ndarray'>\n",
      "Shape (2, 2)\n",
      "값:\n",
      " [[1 2]\n",
      " [3 4]]\n",
      "\n",
      "Type: <class 'numpy.ndarray'>\n",
      "Shape (2, 2)\n",
      "값:\n",
      " [[5 6]\n",
      " [7 8]]\n",
      "\n",
      "Type: <class 'numpy.ndarray'>\n",
      "Shape (2,)\n",
      "값:\n",
      " [ 9 10]\n",
      "\n",
      "Type: <class 'numpy.ndarray'>\n",
      "Shape (2,)\n",
      "값:\n",
      " [11 12]\n",
      "\n"
     ]
    }
   ],
   "source": [
    "m1 = np.array([[1, 2], [3, 4]]) # (2, 2)\n",
    "m2 = np.array([[5, 6], [7, 8]]) # (2, 2)\n",
    "v1 = np.array([9, 10]) # (2) → (2,) # [[9, 10]] → (1, 2)\n",
    "v2 = np.array([11, 12]) # (2) → (2,)\n",
    "\n",
    "print_val(m1)\n",
    "print_val(m2)\n",
    "print_val(v1)\n",
    "print_val(v2)"
   ]
  },
  {
   "cell_type": "markdown",
   "metadata": {},
   "source": [
    "## 벡터-벡터 연산 $(\\vec{u} \\cdot \\vec{v})$"
   ]
  },
  {
   "cell_type": "code",
   "execution_count": 30,
   "metadata": {},
   "outputs": [
    {
     "name": "stdout",
     "output_type": "stream",
     "text": [
      "Type: <class 'numpy.int64'>\n",
      "Shape ()\n",
      "값:\n",
      " 219\n",
      "\n",
      "Type: <class 'numpy.int64'>\n",
      "Shape ()\n",
      "값:\n",
      " 219\n",
      "\n"
     ]
    }
   ],
   "source": [
    "print_val(v1.dot(v2)) # Scalar\n",
    "print_val(np.dot(v1, v2))\n",
    "# 벡터의 내적 - dot product"
   ]
  },
  {
   "cell_type": "markdown",
   "metadata": {},
   "source": [
    "## 벡터-행렬 연산"
   ]
  },
  {
   "cell_type": "code",
   "execution_count": 31,
   "metadata": {},
   "outputs": [
    {
     "name": "stdout",
     "output_type": "stream",
     "text": [
      "Type: <class 'numpy.ndarray'>\n",
      "Shape (2,)\n",
      "값:\n",
      " [29 67]\n",
      "\n",
      "Type: <class 'numpy.ndarray'>\n",
      "Shape (2,)\n",
      "값:\n",
      " [29 67]\n",
      "\n"
     ]
    }
   ],
   "source": [
    "print_val(m1.dot(v1)) # (2, 2)×(2, )→(2, )\n",
    "print_val(np.dot(m1, v1))"
   ]
  },
  {
   "cell_type": "markdown",
   "metadata": {},
   "source": [
    "## 행렬-행렬 연산"
   ]
  },
  {
   "cell_type": "code",
   "execution_count": 32,
   "metadata": {},
   "outputs": [
    {
     "name": "stdout",
     "output_type": "stream",
     "text": [
      "Type: <class 'numpy.ndarray'>\n",
      "Shape (2, 2)\n",
      "값:\n",
      " [[19 22]\n",
      " [43 50]]\n",
      "\n",
      "Type: <class 'numpy.ndarray'>\n",
      "Shape (2, 2)\n",
      "값:\n",
      " [[19 22]\n",
      " [43 50]]\n",
      "\n"
     ]
    }
   ],
   "source": [
    "print_val(m1.dot(m2))\n",
    "print_val(np.dot(m1, m2))"
   ]
  },
  {
   "cell_type": "markdown",
   "metadata": {},
   "source": [
    "## 전치 행렬 (transpose) $({A}^{\\mathsf{T}})$"
   ]
  },
  {
   "cell_type": "code",
   "execution_count": 33,
   "metadata": {},
   "outputs": [
    {
     "name": "stdout",
     "output_type": "stream",
     "text": [
      "Type: <class 'numpy.ndarray'>\n",
      "Shape (2, 2)\n",
      "값:\n",
      " [[1 2]\n",
      " [3 4]]\n",
      "\n",
      "Type: <class 'numpy.ndarray'>\n",
      "Shape (2, 2)\n",
      "값:\n",
      " [[1 3]\n",
      " [2 4]]\n",
      "\n"
     ]
    }
   ],
   "source": [
    "print_val(m1)\n",
    "print_val(m1.T)\n",
    "# 대각성분을 기준으로 나머지 원소들의 위치를 바꿈"
   ]
  },
  {
   "cell_type": "markdown",
   "metadata": {},
   "source": [
    "## 합"
   ]
  },
  {
   "cell_type": "code",
   "execution_count": 34,
   "metadata": {},
   "outputs": [
    {
     "name": "stdout",
     "output_type": "stream",
     "text": [
      "Type: <class 'numpy.int64'>\n",
      "Shape ()\n",
      "값:\n",
      " 10\n",
      "\n",
      "Type: <class 'numpy.ndarray'>\n",
      "Shape (2,)\n",
      "값:\n",
      " [4 6]\n",
      "\n",
      "Type: <class 'numpy.ndarray'>\n",
      "Shape (2,)\n",
      "값:\n",
      " [3 7]\n",
      "\n"
     ]
    }
   ],
   "source": [
    "print_val(np.sum(m1)) # 행렬의 모든 원소의 합 - Scalar\n",
    "print_val(np.sum(m1, axis=0)) # 0번 랭크(shape[0], 행)를 기준으로 압축시키자\n",
    "print_val(np.sum(m1, axis=1)) # 1번 랭크(shape[1], 열)를 기준으로 압축시키자"
   ]
  },
  {
   "cell_type": "code",
   "execution_count": 35,
   "metadata": {},
   "outputs": [
    {
     "name": "stdout",
     "output_type": "stream",
     "text": [
      "Type: <class 'numpy.ndarray'>\n",
      "Shape (2, 3)\n",
      "값:\n",
      " [[1 2 3]\n",
      " [4 5 6]]\n",
      "\n"
     ]
    }
   ],
   "source": [
    "m1 = np.array([[1, 2, 3], [4, 5, 6]])\n",
    "print_val(m1) # (2,3)"
   ]
  },
  {
   "cell_type": "code",
   "execution_count": 36,
   "metadata": {},
   "outputs": [
    {
     "name": "stdout",
     "output_type": "stream",
     "text": [
      "Type: <class 'numpy.int64'>\n",
      "Shape ()\n",
      "값:\n",
      " 21\n",
      "\n",
      "Type: <class 'numpy.ndarray'>\n",
      "Shape (3,)\n",
      "값:\n",
      " [5 7 9]\n",
      "\n",
      "Type: <class 'numpy.ndarray'>\n",
      "Shape (2,)\n",
      "값:\n",
      " [ 6 15]\n",
      "\n"
     ]
    }
   ],
   "source": [
    "print_val(np.sum(m1)) # 행렬의 모든 원소의 합 - Scalar\n",
    "print_val(np.sum(m1, axis=0)) # 0번 랭크(shape[0], 행)를 기준으로 압축. (2,3)→(3,)\n",
    "print_val(np.sum(m1, axis=1)) # 1번 랭크(shape[1], 열)를 기준으로 압축. (2,3)→(2,)\n",
    "# n 번째 shape를 없애자"
   ]
  },
  {
   "cell_type": "code",
   "execution_count": 37,
   "metadata": {},
   "outputs": [
    {
     "name": "stdout",
     "output_type": "stream",
     "text": [
      "Type: <class 'numpy.ndarray'>\n",
      "Shape (2, 2, 3)\n",
      "값:\n",
      " [[[ 1  2  3]\n",
      "  [ 4  5  6]]\n",
      "\n",
      " [[ 7  8  9]\n",
      "  [10 11 12]]]\n",
      "\n",
      "Type: <class 'numpy.int64'>\n",
      "Shape ()\n",
      "값:\n",
      " 78\n",
      "\n",
      "Type: <class 'numpy.ndarray'>\n",
      "Shape (2, 3)\n",
      "값:\n",
      " [[ 8 10 12]\n",
      " [14 16 18]]\n",
      "\n",
      "Type: <class 'numpy.ndarray'>\n",
      "Shape (2, 3)\n",
      "값:\n",
      " [[ 5  7  9]\n",
      " [17 19 21]]\n",
      "\n",
      "Type: <class 'numpy.ndarray'>\n",
      "Shape (2, 2)\n",
      "값:\n",
      " [[ 6 15]\n",
      " [24 33]]\n",
      "\n"
     ]
    }
   ],
   "source": [
    "z = np.array([[[1, 2, 3], [4, 5, 6]], [[7, 8, 9], [10, 11, 12]]]) # [] 세겹\n",
    "print_val(z) # (2, 2, 3)\n",
    "\n",
    "print_val(np.sum(z)) # 행렬의 모든 원소의 합 - Scalar\n",
    "print_val(np.sum(z, axis=0)) # 0번 랭크(shape[0])를 기준으로 압축. (2, 2, 3)→(2, 3)\n",
    "print_val(np.sum(z, axis=1)) # 1번 랭크(shape[1])를 기준으로 압축. (2, 2, 3)→(2, 3)\n",
    "print_val(np.sum(z, axis=2)) # 2번 랭크(shape[2])를 기준으로 압축. (2, 2, 3)→(2, 2)\n",
    "# n 번째 shape를 없애자"
   ]
  },
  {
   "cell_type": "markdown",
   "metadata": {},
   "source": [
    "## zeros-like"
   ]
  },
  {
   "cell_type": "code",
   "execution_count": 38,
   "metadata": {},
   "outputs": [
    {
     "name": "stdout",
     "output_type": "stream",
     "text": [
      "Type: <class 'numpy.ndarray'>\n",
      "Shape (4, 3)\n",
      "값:\n",
      " [[ 1  2  3]\n",
      " [ 4  5  6]\n",
      " [ 7  8  9]\n",
      " [10 11 12]]\n",
      "\n",
      "Type: <class 'numpy.ndarray'>\n",
      "Shape (4, 3)\n",
      "값:\n",
      " [[0 0 0]\n",
      " [0 0 0]\n",
      " [0 0 0]\n",
      " [0 0 0]]\n",
      "\n"
     ]
    }
   ],
   "source": [
    "m1 = np.array([[1, 2, 3], \n",
    "               [4, 5, 6], \n",
    "               [7, 8, 9], \n",
    "               [10, 11, 12]])\n",
    "m2 = np.zeros_like(m1) # m1과 같은 형태(shape)의 0으로 이루어진 np array\n",
    "print_val(m1)\n",
    "print_val(m2)"
   ]
  },
  {
   "cell_type": "markdown",
   "metadata": {},
   "source": [
    "## Matplot library"
   ]
  },
  {
   "cell_type": "code",
   "execution_count": 39,
   "metadata": {},
   "outputs": [],
   "source": [
    "import matplotlib.pyplot as plt\n",
    "%matplotlib inline"
   ]
  },
  {
   "cell_type": "code",
   "execution_count": 40,
   "metadata": {},
   "outputs": [
    {
     "name": "stdout",
     "output_type": "stream",
     "text": [
      "[0.  0.1 0.2 0.3 0.4 0.5 0.6 0.7 0.8 0.9 1.  1.1 1.2 1.3 1.4 1.5 1.6 1.7\n",
      " 1.8 1.9 2.  2.1 2.2 2.3 2.4 2.5 2.6 2.7 2.8 2.9 3.  3.1 3.2 3.3 3.4 3.5\n",
      " 3.6 3.7 3.8 3.9 4.  4.1 4.2 4.3 4.4 4.5 4.6 4.7 4.8 4.9 5.  5.1 5.2 5.3\n",
      " 5.4 5.5 5.6 5.7 5.8 5.9 6.  6.1 6.2 6.3 6.4 6.5 6.6 6.7 6.8 6.9 7.  7.1\n",
      " 7.2 7.3 7.4 7.5 7.6 7.7 7.8 7.9 8.  8.1 8.2 8.3 8.4 8.5 8.6 8.7 8.8 8.9\n",
      " 9.  9.1 9.2 9.3 9.4 9.5 9.6 9.7 9.8 9.9]\n",
      "[ 0.          0.09983342  0.19866933  0.29552021  0.38941834  0.47942554\n",
      "  0.56464247  0.64421769  0.71735609  0.78332691  0.84147098  0.89120736\n",
      "  0.93203909  0.96355819  0.98544973  0.99749499  0.9995736   0.99166481\n",
      "  0.97384763  0.94630009  0.90929743  0.86320937  0.8084964   0.74570521\n",
      "  0.67546318  0.59847214  0.51550137  0.42737988  0.33498815  0.23924933\n",
      "  0.14112001  0.04158066 -0.05837414 -0.15774569 -0.2555411  -0.35078323\n",
      " -0.44252044 -0.52983614 -0.61185789 -0.68776616 -0.7568025  -0.81827711\n",
      " -0.87157577 -0.91616594 -0.95160207 -0.97753012 -0.993691   -0.99992326\n",
      " -0.99616461 -0.98245261 -0.95892427 -0.92581468 -0.88345466 -0.83226744\n",
      " -0.77276449 -0.70554033 -0.63126664 -0.55068554 -0.46460218 -0.37387666\n",
      " -0.2794155  -0.1821625  -0.0830894   0.0168139   0.1165492   0.21511999\n",
      "  0.31154136  0.40484992  0.49411335  0.57843976  0.6569866   0.72896904\n",
      "  0.79366786  0.85043662  0.8987081   0.93799998  0.96791967  0.98816823\n",
      "  0.99854335  0.99894134  0.98935825  0.96988981  0.94073056  0.90217183\n",
      "  0.85459891  0.79848711  0.7343971   0.66296923  0.58491719  0.50102086\n",
      "  0.41211849  0.31909836  0.22288991  0.12445442  0.02477543 -0.07515112\n",
      " -0.17432678 -0.27176063 -0.36647913 -0.45753589]\n"
     ]
    },
    {
     "data": {
      "image/png": "[encoded data removed]",
      "text/plain": [
       "<Figure size 432x288 with 1 Axes>"
      ]
     },
     "metadata": {},
     "output_type": "display_data"
    }
   ],
   "source": [
    "# sin 커브\n",
    "x = np.arange(0, 10, 0.1) # 0 ~ 10까지 0.1 간격의 숫자 배열\n",
    "print(x)\n",
    "\n",
    "y = np.sin(x) # 각 x원소에 해당하는 sin 함수를 취한 값이 배열 형태로 저장\n",
    "print(y)\n",
    "\n",
    "plt.plot(x, y)\n",
    "plt.show() # 한 번 실행으로 결과 출력"
   ]
  },
  {
   "cell_type": "markdown",
   "metadata": {},
   "source": [
    "## 한 번에 두 개 그래프 그리기"
   ]
  },
  {
   "cell_type": "code",
   "execution_count": 41,
   "metadata": {},
   "outputs": [
    {
     "data": {
      "image/png": "[encoded data removed]",
      "text/plain": [
       "<Figure size 432x288 with 1 Axes>"
      ]
     },
     "metadata": {},
     "output_type": "display_data"
    }
   ],
   "source": [
    "y_sin = np.sin(x)\n",
    "y_cos = np.cos(x)\n",
    "\n",
    "plt.plot(x, y_sin)\n",
    "plt.plot(x, y_cos)\n",
    "\n",
    "plt.xlabel('x axis label') # x축 라벨 이름 입력\n",
    "plt.ylabel('y axis label') # y축 라벨 이름 입력\n",
    "\n",
    "plt.title('sin and cos') # 제목 입력\n",
    "\n",
    "plt.legend(['sin', 'cos']) # 범례 입력\n",
    "\n",
    "plt.show()"
   ]
  },
  {
   "cell_type": "markdown",
   "metadata": {},
   "source": [
    "## Subplot"
   ]
  },
  {
   "cell_type": "code",
   "execution_count": 42,
   "metadata": {},
   "outputs": [
    {
     "data": {
      "image/png": "[encoded data removed]",
      "text/plain": [
       "<Figure size 432x288 with 2 Axes>"
      ]
     },
     "metadata": {},
     "output_type": "display_data"
    }
   ],
   "source": [
    "plt.subplot(3, 1, 1) # (3, 1) 형태로 plot의 첫 번째 자리에 그리겠다.\n",
    "plt.plot(x, y_sin, linestyle = '--', color='magenta')\n",
    "plt.xlabel('x'), plt.ylabel('y = sin(x)')\n",
    "plt.title('sin')\n",
    "plt.legend(['sin'])\n",
    "\n",
    "plt.subplot(3, 1, 3)\n",
    "plt.plot(x, y_cos, linestyle = ':', color='green')\n",
    "plt.xlabel('x'), plt.ylabel('y = cos(x)')\n",
    "plt.title('cos')\n",
    "plt.legend(['cos'])\n",
    "\n",
    "plt.show()"
   ]
  },
  {
   "cell_type": "markdown",
   "metadata": {},
   "source": [
    "# 3. 파이토치 기초"
   ]
  },
  {
   "cell_type": "code",
   "execution_count": 43,
   "metadata": {},
   "outputs": [],
   "source": [
    "import torch\n",
    "# 네트워크 구조 및 여러가지 알고리즘들을 내장하고있는 라이브러리"
   ]
  },
  {
   "cell_type": "code",
   "execution_count": 44,
   "metadata": {},
   "outputs": [
    {
     "name": "stdout",
     "output_type": "stream",
     "text": [
      "Type: <class 'torch.Tensor'>\n",
      "Shape torch.Size([2, 3, 2])\n",
      "값:\n",
      " tensor([[[0.7775, 0.5087],\n",
      "         [0.0404, 0.4484],\n",
      "         [0.3992, 0.1617]],\n",
      "\n",
      "        [[0.3109, 0.9673],\n",
      "         [0.1289, 0.3425],\n",
      "         [0.0028, 0.8420]]])\n",
      "\n",
      "Type: <class 'torch.Tensor'>\n",
      "Shape torch.Size([2, 3])\n",
      "값:\n",
      " tensor([[-0.3832,  1.8813,  0.2839],\n",
      "        [ 0.3351, -0.9189,  0.9574]])\n",
      "\n"
     ]
    }
   ],
   "source": [
    "x = torch.rand(2,3,2) # uniform: 0~1 사이 모든 값들이 나올 확률이 같음\n",
    "print_val(x)\n",
    "\n",
    "x = torch.randn(2, 3) # Gaussian: 0을 평균으로 하는 가우시안 분포를 따르는 랜덤값\n",
    "print_val(x)\n",
    "\n",
    "# numpy 행렬과 벡터 그대로 사용을 하지 않고,\n",
    "# 파이토치에서 제공하는 'Tensor' 자료형으로 변환해서 사용한다.\n",
    "# → gpu 코딩 가능(gpu 가속을 받을 수 있다.)"
   ]
  },
  {
   "cell_type": "code",
   "execution_count": 45,
   "metadata": {},
   "outputs": [
    {
     "name": "stdout",
     "output_type": "stream",
     "text": [
      "Type: <class 'torch.Tensor'>\n",
      "Shape torch.Size([4])\n",
      "값:\n",
      " tensor([0, 1, 3, 2])\n",
      "\n"
     ]
    }
   ],
   "source": [
    "x = torch.randperm(4) # 0 ~ n-1까지 값을 원소로 갖는 배열 → 랜덤 배열\n",
    "print_val(x)"
   ]
  },
  {
   "cell_type": "code",
   "execution_count": 46,
   "metadata": {},
   "outputs": [
    {
     "name": "stdout",
     "output_type": "stream",
     "text": [
      "Type: <class 'torch.Tensor'>\n",
      "Shape torch.Size([6])\n",
      "값:\n",
      " tensor([0.0000, 0.5000, 1.0000, 1.5000, 2.0000, 2.5000])\n",
      "\n"
     ]
    }
   ],
   "source": [
    "# [start, end) 구간을 step 단위로 나눠서 배열로 생성\n",
    "x = torch.arange(0, 3, step = 0.5)\n",
    "print_val(x)"
   ]
  },
  {
   "cell_type": "code",
   "execution_count": 47,
   "metadata": {},
   "outputs": [
    {
     "name": "stdout",
     "output_type": "stream",
     "text": [
      "Type: <class 'torch.Tensor'>\n",
      "Shape torch.Size([3, 4])\n",
      "값:\n",
      " tensor([[1., 1., 1., 1.],\n",
      "        [1., 1., 1., 1.],\n",
      "        [1., 1., 1., 1.]])\n",
      "\n",
      "Type: <class 'torch.Tensor'>\n",
      "Shape torch.Size([3, 4])\n",
      "값:\n",
      " tensor([[0., 0., 0., 0.],\n",
      "        [0., 0., 0., 0.],\n",
      "        [0., 0., 0., 0.]])\n",
      "\n"
     ]
    }
   ],
   "source": [
    "print_val( torch.ones(3,4) )\n",
    "print_val( torch.zeros(3,4) )"
   ]
  },
  {
   "cell_type": "code",
   "execution_count": 48,
   "metadata": {},
   "outputs": [
    {
     "name": "stdout",
     "output_type": "stream",
     "text": [
      "Type: <class 'torch.Tensor'>\n",
      "Shape torch.Size([2, 4])\n",
      "값:\n",
      " tensor([[8.7003e-32, 3.0623e-41, 8.7005e-32, 3.0623e-41],\n",
      "        [2.9147e-43, 0.0000e+00, 1.3452e-43, 0.0000e+00]])\n",
      "\n"
     ]
    }
   ],
   "source": [
    "print_val( torch.Tensor(2, 4) ) # 쓰레기 값"
   ]
  },
  {
   "cell_type": "code",
   "execution_count": 49,
   "metadata": {},
   "outputs": [
    {
     "name": "stdout",
     "output_type": "stream",
     "text": [
      "Type: <class 'torch.Tensor'>\n",
      "Shape torch.Size([2])\n",
      "값:\n",
      " tensor([2., 3.])\n",
      "\n",
      "Type: <class 'torch.Tensor'>\n",
      "Shape torch.Size([2, 2])\n",
      "값:\n",
      " tensor([[2., 3.],\n",
      "        [3., 4.]])\n",
      "\n"
     ]
    }
   ],
   "source": [
    "print_val( torch.Tensor([2, 3]) )\n",
    "print_val( torch.Tensor([[2, 3], [3, 4]]) )"
   ]
  },
  {
   "cell_type": "code",
   "execution_count": 50,
   "metadata": {},
   "outputs": [
    {
     "name": "stdout",
     "output_type": "stream",
     "text": [
      "Type: <class 'torch.Tensor'>\n",
      "Shape torch.Size([2, 3])\n",
      "값:\n",
      " tensor([[0., 0., 0.],\n",
      "        [0., 0., 0.]])\n",
      "\n",
      "Type: <class 'torch.Tensor'>\n",
      "Shape torch.Size([2, 3])\n",
      "값:\n",
      " tensor([[0, 0, 0],\n",
      "        [0, 0, 0]], dtype=torch.int32)\n",
      "\n"
     ]
    }
   ],
   "source": [
    "# 텐서 타입 변환\n",
    "x = torch.FloatTensor(2, 3)\n",
    "print_val(x)\n",
    "\n",
    "x = x.type_as(torch.IntTensor()) # x를 IntTensor() 타입으로 바꿔라\n",
    "print_val(x)"
   ]
  },
  {
   "cell_type": "code",
   "execution_count": 51,
   "metadata": {},
   "outputs": [
    {
     "name": "stdout",
     "output_type": "stream",
     "text": [
      "torch.Size([3, 4, 5])\n",
      "torch.Size([3, 4, 5])\n"
     ]
    }
   ],
   "source": [
    "# 텐서 크기 반환\n",
    "print(torch.FloatTensor(3, 4, 5).size())\n",
    "print(torch.FloatTensor(3, 4, 5).shape)"
   ]
  },
  {
   "cell_type": "code",
   "execution_count": 52,
   "metadata": {},
   "outputs": [
    {
     "name": "stdout",
     "output_type": "stream",
     "text": [
      "Type: <class 'numpy.ndarray'>\n",
      "Shape (2, 3)\n",
      "값:\n",
      " [[4629475236955501364 4629475236955501364 4629475236955501364]\n",
      " [4629475236955501364 4629475236955501364 4629475236955501364]]\n",
      "\n",
      "Type: <class 'torch.Tensor'>\n",
      "Shape torch.Size([2, 3])\n",
      "값:\n",
      " tensor([[4629475236955501364, 4629475236955501364, 4629475236955501364],\n",
      "        [4629475236955501364, 4629475236955501364, 4629475236955501364]])\n",
      "\n"
     ]
    }
   ],
   "source": [
    "# numpy array → torch tensor\n",
    "import numpy as np\n",
    "np_x = np.ndarray((2, 3), dtype=int)\n",
    "print_val(np_x)\n",
    "\n",
    "x = torch.from_numpy(np_x) # Tensor로 변환 → gpu 연산에 사용\n",
    "print_val(x)"
   ]
  },
  {
   "cell_type": "markdown",
   "metadata": {},
   "source": [
    "# 4. MNIST 데이터로드"
   ]
  },
  {
   "cell_type": "code",
   "execution_count": 53,
   "metadata": {},
   "outputs": [],
   "source": [
    "import torchvision.datasets as dset\n",
    "import torchvision.transforms as transforms\n",
    "from torch.utils.data import DataLoader\n",
    "from torch.autograd import Variable\n",
    "import matplotlib.pyplot as plt\n",
    "%matplotlib inline"
   ]
  },
  {
   "cell_type": "markdown",
   "metadata": {},
   "source": [
    "## 0) MNIST는 어떻게 생겼나?"
   ]
  },
  {
   "cell_type": "code",
   "execution_count": 54,
   "metadata": {
    "scrolled": false
   },
   "outputs": [
    {
     "name": "stdout",
     "output_type": "stream",
     "text": [
      "Downloading http://yann.lecun.com/exdb/mnist/train-images-idx3-ubyte.gz to MNIST/raw/train-images-idx3-ubyte.gz\n"
     ]
    },
    {
     "data": {
      "application/vnd.jupyter.widget-view+json": {
       "model_id": "99f4862f955a415fa131cba477390243",
       "version_major": 2,
       "version_minor": 0
      },
      "text/plain": [
       "HBox(children=(FloatProgress(value=1.0, bar_style='info', max=1.0), HTML(value='')))"
      ]
     },
     "metadata": {},
     "output_type": "display_data"
    },
    {
     "name": "stdout",
     "output_type": "stream",
     "text": [
      "Extracting MNIST/raw/train-images-idx3-ubyte.gz to MNIST/raw\n",
      "Downloading http://yann.lecun.com/exdb/mnist/train-labels-idx1-ubyte.gz to MNIST/raw/train-labels-idx1-ubyte.gz\n"
     ]
    },
    {
     "data": {
      "application/vnd.jupyter.widget-view+json": {
       "model_id": "efa991f4eb764857987de93ab2d38725",
       "version_major": 2,
       "version_minor": 0
      },
      "text/plain": [
       "HBox(children=(FloatProgress(value=1.0, bar_style='info', max=1.0), HTML(value='')))"
      ]
     },
     "metadata": {},
     "output_type": "display_data"
    },
    {
     "name": "stdout",
     "output_type": "stream",
     "text": [
      "Extracting MNIST/raw/train-labels-idx1-ubyte.gz to MNIST/raw\n",
      "Downloading http://yann.lecun.com/exdb/mnist/t10k-images-idx3-ubyte.gz to MNIST/raw/t10k-images-idx3-ubyte.gz\n"
     ]
    },
    {
     "data": {
      "application/vnd.jupyter.widget-view+json": {
       "model_id": "9ef434381274417a8d1b30ee5862692f",
       "version_major": 2,
       "version_minor": 0
      },
      "text/plain": [
       "HBox(children=(FloatProgress(value=1.0, bar_style='info', max=1.0), HTML(value='')))"
      ]
     },
     "metadata": {},
     "output_type": "display_data"
    },
    {
     "name": "stdout",
     "output_type": "stream",
     "text": [
      "Extracting MNIST/raw/t10k-images-idx3-ubyte.gz to MNIST/raw\n",
      "Downloading http://yann.lecun.com/exdb/mnist/t10k-labels-idx1-ubyte.gz to MNIST/raw/t10k-labels-idx1-ubyte.gz\n"
     ]
    },
    {
     "data": {
      "application/vnd.jupyter.widget-view+json": {
       "model_id": "9562741930924fb7afaa6fbb283c28ac",
       "version_major": 2,
       "version_minor": 0
      },
      "text/plain": [
       "HBox(children=(FloatProgress(value=1.0, bar_style='info', max=1.0), HTML(value='')))"
      ]
     },
     "metadata": {},
     "output_type": "display_data"
    },
    {
     "name": "stdout",
     "output_type": "stream",
     "text": [
      "Extracting MNIST/raw/t10k-labels-idx1-ubyte.gz to MNIST/raw\n",
      "Processing...\n",
      "Done!\n",
      "torch.Size([1, 28, 28]) 5\n",
      "torch.Size([1, 28, 28]) 0\n",
      "60000\n",
      "mnist_train 길이:  60000\n",
      "5\n",
      "torch.Size([1, 28, 28])\n",
      "\n",
      "\n"
     ]
    },
    {
     "data": {
      "image/png": "[encoded data removed]",
      "text/plain": [
       "<Figure size 432x288 with 1 Axes>"
      ]
     },
     "metadata": {},
     "output_type": "display_data"
    },
    {
     "name": "stdout",
     "output_type": "stream",
     "text": [
      "\n",
      "\n"
     ]
    },
    {
     "data": {
      "image/png": "[encoded data removed]",
      "text/plain": [
       "<Figure size 432x288 with 1 Axes>"
      ]
     },
     "metadata": {},
     "output_type": "display_data"
    },
    {
     "data": {
      "image/png": "[encoded data removed]",
      "text/plain": [
       "<Figure size 432x288 with 1 Axes>"
      ]
     },
     "metadata": {},
     "output_type": "display_data"
    }
   ],
   "source": [
    "# 1. MNIST 로드\n",
    "mnist_train = dset.MNIST(\"\", train=True, transform = transforms.ToTensor(), # train 용으로 쓰겠다.\n",
    "                        target_transform=None, download=True)\n",
    "\n",
    "# 2. 그려보기\n",
    "# MNIST data 하나 형태 출력\n",
    "image, label = mnist_train.__getitem__(0) \n",
    "print(image.size(), label)\n",
    "# mnist_train[data #][0 = image data]\n",
    "# mnist_train[data #][1 = label]\n",
    "\n",
    "image, label = mnist_train[1]\n",
    "print(image.size(), label)\n",
    "\n",
    "print(mnist_train.__len__())\n",
    "print(\"mnist_train 길이: \", len(mnist_train))\n",
    "\n",
    "# 그리기\n",
    "# print(mnist_train[0][0]) # image\n",
    "print(mnist_train[0][1]) # label\n",
    "print(mnist_train[0][0].size()) # image size\n",
    "\n",
    "for i in range(3):\n",
    "    img = mnist_train[i][0].numpy() # image 타입을 numpy로 변환 (1, 20, 20)\n",
    "    # print(\"label:\", mnist_train[i][1])\n",
    "    plt.subplot(1, 3, i+1) # (1,3) 형태 플랏의 j번째 자리에 그리겠다\n",
    "    plt.title(\"label: %d\" %mnist_train[i][1])\n",
    "    plt.imshow(img[0], cmap='gray')\n",
    "    plt.show()    "
   ]
  },
  {
   "cell_type": "markdown",
   "metadata": {},
   "source": [
    "## 1) MNIST train, test dataset 가져오기"
   ]
  },
  {
   "cell_type": "code",
   "execution_count": 55,
   "metadata": {},
   "outputs": [],
   "source": [
    "# \"\": 현재 폴더에 MNIST 있음\n",
    "mnist_train = dset.MNIST(\"\", train=True, transform=transforms.ToTensor(), # train 용으로 쓰겠다.\n",
    "                      target_transform=None, download=True)\n",
    "mnist_test = dset.MNIST(\"\", train=False, transform=transforms.ToTensor(), # test 용으로 쓰겠다.\n",
    "                      target_transform=None, download=True)"
   ]
  },
  {
   "cell_type": "markdown",
   "metadata": {},
   "source": [
    "## 2) 대략적인 데이터 형태"
   ]
  },
  {
   "cell_type": "code",
   "execution_count": 56,
   "metadata": {},
   "outputs": [
    {
     "name": "stdout",
     "output_type": "stream",
     "text": [
      "mnist_train 길이: 60000\n",
      "mnist_test 길이: 10000\n",
      "image data 형태: torch.Size([1, 28, 28])\n",
      "label:  5\n"
     ]
    },
    {
     "data": {
      "image/png": "[encoded data removed]",
      "text/plain": [
       "<Figure size 432x288 with 1 Axes>"
      ]
     },
     "metadata": {},
     "output_type": "display_data"
    }
   ],
   "source": [
    "print(\"mnist_train 길이:\", len(mnist_train))\n",
    "print(\"mnist_test 길이:\", len(mnist_test))\n",
    "\n",
    "# 데이터 하나 형태\n",
    "image, label = mnist_train.__getitem__(0) # 0번째 데이터\n",
    "print(\"image data 형태:\", image.size())\n",
    "print(\"label: \", label) # 0~9\n",
    "\n",
    "# 그리기\n",
    "img = image.numpy() # image 타입을 numpy로 변환(1, 28, 28)\n",
    "plt.title(\"label: %d\" %label)\n",
    "plt.imshow(img[0], cmap='gray')\n",
    "plt.show()"
   ]
  },
  {
   "cell_type": "markdown",
   "metadata": {},
   "source": [
    "## 3) 데이터 로드함수"
   ]
  },
  {
   "cell_type": "markdown",
   "metadata": {},
   "source": [
    "학습시킬 때 batch_size 단위로 끊어서 로드하기 위함"
   ]
  },
  {
   "cell_type": "code",
   "execution_count": 57,
   "metadata": {},
   "outputs": [],
   "source": [
    "batch_size = 16"
   ]
  },
  {
   "cell_type": "code",
   "execution_count": 58,
   "metadata": {},
   "outputs": [],
   "source": [
    "train_loader = torch.utils.data.DataLoader(list(mnist_train)[:batch_size*100], batch_size=batch_size,\n",
    "                                           # mnist_train을 학습 시키자\n",
    "                                          shuffle=True, num_workers=2,\n",
    "                                          drop_last=True) # batch_size 만큼 나눌 때 나머지는 버려라\n",
    "test_loader = torch.utils.data.DataLoader(mnist_test, batch_size=batch_size,                                           \n",
    "                                          shuffle=False, num_workers=2,\n",
    "                                          drop_last=True)\n",
    "\n",
    "# 이미지 6만장 → 컴퓨터 메모리에 한꺼번에 저장 불가 → batch + DataLoader"
   ]
  },
  {
   "cell_type": "markdown",
   "metadata": {},
   "source": [
    "## 4) 데이터 로드함수 이해하기"
   ]
  },
  {
   "cell_type": "code",
   "execution_count": 59,
   "metadata": {},
   "outputs": [
    {
     "name": "stdout",
     "output_type": "stream",
     "text": [
      "[0]\n",
      "한 번에 로드되는 데이터 크기: 16\n",
      "torch.Size([16, 28, 28])\n",
      "torch.Size([16])\n"
     ]
    },
    {
     "data": {
      "image/png": "[encoded data removed]",
      "text/plain": [
       "<Figure size 432x288 with 3 Axes>"
      ]
     },
     "metadata": {},
     "output_type": "display_data"
    },
    {
     "name": "stdout",
     "output_type": "stream",
     "text": [
      "[1]\n",
      "한 번에 로드되는 데이터 크기: 16\n",
      "torch.Size([16, 28, 28])\n",
      "torch.Size([16])\n"
     ]
    },
    {
     "data": {
      "image/png": "[encoded data removed]",
      "text/plain": [
       "<Figure size 432x288 with 3 Axes>"
      ]
     },
     "metadata": {},
     "output_type": "display_data"
    },
    {
     "name": "stdout",
     "output_type": "stream",
     "text": [
      "[2]\n",
      "한 번에 로드되는 데이터 크기: 16\n",
      "torch.Size([16, 28, 28])\n",
      "torch.Size([16])\n"
     ]
    },
    {
     "data": {
      "image/png": "[encoded data removed]",
      "text/plain": [
       "<Figure size 432x288 with 3 Axes>"
      ]
     },
     "metadata": {},
     "output_type": "display_data"
    },
    {
     "name": "stdout",
     "output_type": "stream",
     "text": [
      "[3]\n",
      "한 번에 로드되는 데이터 크기: 16\n",
      "torch.Size([16, 28, 28])\n",
      "torch.Size([16])\n"
     ]
    },
    {
     "data": {
      "image/png": "[encoded data removed]",
      "text/plain": [
       "<Figure size 432x288 with 3 Axes>"
      ]
     },
     "metadata": {},
     "output_type": "display_data"
    },
    {
     "name": "stdout",
     "output_type": "stream",
     "text": [
      "[4]\n",
      "한 번에 로드되는 데이터 크기: 16\n",
      "torch.Size([16, 28, 28])\n",
      "torch.Size([16])\n"
     ]
    },
    {
     "data": {
      "image/png": "[encoded data removed]",
      "text/plain": [
       "<Figure size 432x288 with 3 Axes>"
      ]
     },
     "metadata": {},
     "output_type": "display_data"
    },
    {
     "name": "stdout",
     "output_type": "stream",
     "text": [
      "[5]\n",
      "한 번에 로드되는 데이터 크기: 16\n",
      "torch.Size([16, 28, 28])\n",
      "torch.Size([16])\n"
     ]
    },
    {
     "data": {
      "image/png": "[encoded data removed]",
      "text/plain": [
       "<Figure size 432x288 with 3 Axes>"
      ]
     },
     "metadata": {},
     "output_type": "display_data"
    }
   ],
   "source": [
    "n = 3 # 샘플로 그려볼 데이터 개수\n",
    "for i, [imgs, labels] in enumerate(test_loader): # batch_size 만큼\n",
    "    if i>5:\n",
    "        break\n",
    "    \n",
    "    print(\"[%d]\" %i)\n",
    "    print(\"한 번에 로드되는 데이터 크기:\", len(imgs)) # batch_size\n",
    "    \n",
    "    x = Variable(imgs)#.cuda()    # Tensor, (batch_size, 1, 28, 28)\n",
    "    x = x.reshape((x.shape[0], x.shape[2], x.shape[3])) # (batch_size, 1, 28, 28) → (batch_size, 28, 28)\n",
    "    y_ = Variable(labels)#.cuda()    # (batch_size)\n",
    "    \n",
    "    print(x.shape)\n",
    "    print(y_.shape)\n",
    "    \n",
    "    # 그리기\n",
    "    for j in range(n):\n",
    "        img = imgs[j].numpy() # image 타입을 numpuy로 변환 (1, 28, 28) → 그리기위함(확인용)\n",
    "        img = img.reshape((img.shape[1], img.shape[2])) # (1, 28, 28) → (28, 28)\n",
    "        #print(img.shape)\n",
    "\n",
    "        plt.subplot(1, n, j+1) # (1,3) 형태 플랏의 j번째 자리에 그리겠다\n",
    "        plt.imshow(img, cmap='gray')\n",
    "        plt.title(\"label: %d\" %labels[j])\n",
    "    plt.show()"
   ]
  },
  {
   "cell_type": "code",
   "execution_count": null,
   "metadata": {},
   "outputs": [],
   "source": []
  }
 ],
 "metadata": {
  "kernelspec": {
   "display_name": "conda_pytorch_p36",
   "language": "python",
   "name": "conda_pytorch_p36"
  },
  "language_info": {
   "codemirror_mode": {
    "name": "ipython",
    "version": 3
   },
   "file_extension": ".py",
   "mimetype": "text/x-python",
   "name": "python",
   "nbconvert_exporter": "python",
   "pygments_lexer": "ipython3",
   "version": "3.6.5"
  }
 },
 "nbformat": 4,
 "nbformat_minor": 4
}
