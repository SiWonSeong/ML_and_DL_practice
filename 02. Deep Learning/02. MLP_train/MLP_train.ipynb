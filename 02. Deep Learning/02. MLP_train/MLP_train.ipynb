{
 "cells": [
  {
   "cell_type": "code",
   "execution_count": 1,
   "metadata": {},
   "outputs": [],
   "source": [
    "import torch\n",
    "import torch.nn as nn\n",
    "import torch.optim as optim\n",
    "import torchvision.datasets as dset\n",
    "import torchvision.transforms as transforms\n",
    "from torch.utils.data import DataLoader\n",
    "from torch.autograd import Variable\n",
    "import matplotlib.pyplot as plt\n",
    "%matplotlib inline\n",
    "import numpy as np"
   ]
  },
  {
   "cell_type": "markdown",
   "metadata": {},
   "source": [
    "# 0. Pytorch GPU 환경 구축"
   ]
  },
  {
   "cell_type": "markdown",
   "metadata": {},
   "source": [
    "[참고1] https://pytorch.org/get-started/locally/  \n",
    "[참고2] https://lsjsj92.tistory.com/494  \n",
    "[참고3] PyTorch를 활용한 강화학습/심층강화학습 실전 입문 (218p ~ 219p)"
   ]
  },
  {
   "cell_type": "code",
   "execution_count": 2,
   "metadata": {},
   "outputs": [
    {
     "name": "stdout",
     "output_type": "stream",
     "text": [
      "Collecting package metadata (current_repodata.json): ...working... done\n",
      "Solving environment: ...working... done\n",
      "\n",
      "# All requested packages already installed.\n",
      "\n",
      "\n",
      "Note: you may need to restart the kernel to use updated packages.\n"
     ]
    }
   ],
   "source": [
    "conda install pytorch torchvision cudatoolkit=10.0 -c pytorch"
   ]
  },
  {
   "cell_type": "code",
   "execution_count": 3,
   "metadata": {},
   "outputs": [
    {
     "name": "stdout",
     "output_type": "stream",
     "text": [
      "1.2.0\n"
     ]
    }
   ],
   "source": [
    "print(torch.__version__)"
   ]
  },
  {
   "cell_type": "code",
   "execution_count": 4,
   "metadata": {},
   "outputs": [
    {
     "data": {
      "text/plain": [
       "'GeForce GTX 1060 6GB'"
      ]
     },
     "execution_count": 4,
     "metadata": {},
     "output_type": "execute_result"
    }
   ],
   "source": [
    "torch.cuda.get_device_name(0)"
   ]
  },
  {
   "cell_type": "code",
   "execution_count": 5,
   "metadata": {},
   "outputs": [
    {
     "data": {
      "text/plain": [
       "True"
      ]
     },
     "execution_count": 5,
     "metadata": {},
     "output_type": "execute_result"
    }
   ],
   "source": [
    "torch.cuda.is_available()"
   ]
  },
  {
   "cell_type": "code",
   "execution_count": 6,
   "metadata": {},
   "outputs": [
    {
     "name": "stdout",
     "output_type": "stream",
     "text": [
      "cuda\n"
     ]
    }
   ],
   "source": [
    "use_cuda = torch.cuda.is_available()\n",
    "device = torch.device(\"cuda\" if use_cuda else \"cpu\")\n",
    "print(device)\n",
    "\n",
    "# 사용방법: 명령어.to(device) → GPU환경, CPU환경에 맞춰서 동작"
   ]
  },
  {
   "cell_type": "markdown",
   "metadata": {},
   "source": [
    "# 1. MNIST train, test dataset 가져오기"
   ]
  },
  {
   "cell_type": "code",
   "execution_count": 7,
   "metadata": {},
   "outputs": [
    {
     "name": "stdout",
     "output_type": "stream",
     "text": [
      "Downloading http://yann.lecun.com/exdb/mnist/train-images-idx3-ubyte.gz to MNIST\\raw\\train-images-idx3-ubyte.gz\n"
     ]
    },
    {
     "name": "stderr",
     "output_type": "stream",
     "text": [
      "9920512it [00:02, 4834960.75it/s]                                                                                      \n"
     ]
    },
    {
     "name": "stdout",
     "output_type": "stream",
     "text": [
      "Extracting MNIST\\raw\\train-images-idx3-ubyte.gz to MNIST\\raw\n",
      "Downloading http://yann.lecun.com/exdb/mnist/train-labels-idx1-ubyte.gz to MNIST\\raw\\train-labels-idx1-ubyte.gz\n"
     ]
    },
    {
     "name": "stderr",
     "output_type": "stream",
     "text": [
      "32768it [00:00, 51904.30it/s]                                                                                          \n"
     ]
    },
    {
     "name": "stdout",
     "output_type": "stream",
     "text": [
      "Extracting MNIST\\raw\\train-labels-idx1-ubyte.gz to MNIST\\raw\n",
      "Downloading http://yann.lecun.com/exdb/mnist/t10k-images-idx3-ubyte.gz to MNIST\\raw\\t10k-images-idx3-ubyte.gz\n"
     ]
    },
    {
     "name": "stderr",
     "output_type": "stream",
     "text": [
      "1654784it [00:00, 1849661.78it/s]                                                                                      \n"
     ]
    },
    {
     "name": "stdout",
     "output_type": "stream",
     "text": [
      "Extracting MNIST\\raw\\t10k-images-idx3-ubyte.gz to MNIST\\raw\n",
      "Downloading http://yann.lecun.com/exdb/mnist/t10k-labels-idx1-ubyte.gz to MNIST\\raw\\t10k-labels-idx1-ubyte.gz\n"
     ]
    },
    {
     "name": "stderr",
     "output_type": "stream",
     "text": [
      "8192it [00:00, 17411.97it/s]                                                                                           \n"
     ]
    },
    {
     "name": "stdout",
     "output_type": "stream",
     "text": [
      "Extracting MNIST\\raw\\t10k-labels-idx1-ubyte.gz to MNIST\\raw\n",
      "Processing...\n",
      "Done!\n"
     ]
    }
   ],
   "source": [
    "# \"\": 현재 폴더에 MNIST 있음\n",
    "mnist_train=dset.MNIST(\"\", train=True, transform = transforms.ToTensor(), # train 용으로 쓰겠다.\n",
    "                      target_transform=None, download=True)\n",
    "mnist_test=dset.MNIST(\"\", train=False, transform = transforms.ToTensor(), # test 용으로 쓰겠다.\n",
    "                      target_transform=None, download=True)"
   ]
  },
  {
   "cell_type": "markdown",
   "metadata": {},
   "source": [
    "# 2. 대략적인 데이터 형태"
   ]
  },
  {
   "cell_type": "code",
   "execution_count": 8,
   "metadata": {},
   "outputs": [
    {
     "name": "stdout",
     "output_type": "stream",
     "text": [
      "mnist_train 길이: 60000\n",
      "mnist_test 길이: 10000\n",
      "image data 형태: torch.Size([1, 28, 28])\n",
      "label:  5\n"
     ]
    },
    {
     "data": {
      "image/png": "[encoded data removed]",
      "text/plain": [
       "<Figure size 432x288 with 1 Axes>"
      ]
     },
     "metadata": {
      "needs_background": "light"
     },
     "output_type": "display_data"
    }
   ],
   "source": [
    "print(\"mnist_train 길이:\", len(mnist_train))\n",
    "print(\"mnist_test 길이:\", len(mnist_test))\n",
    "\n",
    "# 데이터 하나 형태\n",
    "image, label = mnist_train.__getitem__(0) # 0번째 데이터\n",
    "print(\"image data 형태:\", image.size())\n",
    "print(\"label: \", label)\n",
    "\n",
    "# 그리기\n",
    "img = image.numpy() # image 타입을 numpy로 변환 (1, 28, 28)\n",
    "plt.title(\"label: %d\" %label)\n",
    "plt.imshow(img[0], cmap='gray')\n",
    "plt.show()"
   ]
  },
  {
   "cell_type": "markdown",
   "metadata": {},
   "source": [
    "# 3. 데이터 로드함수"
   ]
  },
  {
   "cell_type": "markdown",
   "metadata": {},
   "source": [
    "학습시킬 때 batch_size 단위로 끊어서 로드하기 위함"
   ]
  },
  {
   "cell_type": "code",
   "execution_count": 9,
   "metadata": {},
   "outputs": [],
   "source": [
    "# hyper parameters\n",
    "batch_size = 1024 # 배치사이즈 단위로 weight 갱신\n",
    "learning_rate = 0.01\n",
    "num_epoch = 400 # 전체 6만장의 데이터를 400번 반복해서 학습시킬 것이다."
   ]
  },
  {
   "cell_type": "code",
   "execution_count": 10,
   "metadata": {},
   "outputs": [],
   "source": [
    "train_loader = torch.utils.data.DataLoader(mnist_train, # mnist_train을 학습 시키자.\n",
    "                                           batch_size=batch_size, # batch_size 만큼 나누자\n",
    "                                           shuffle=True, num_workers=2, # 나머지는 버려라\n",
    "                                           drop_last=True)\n",
    "test_loader = torch.utils.data.DataLoader(mnist_test,\n",
    "                                           batch_size=batch_size,\n",
    "                                           shuffle=False, num_workers=2,\n",
    "                                           drop_last=True)"
   ]
  },
  {
   "cell_type": "markdown",
   "metadata": {},
   "source": [
    "## 데이터 로드함수 이해하기"
   ]
  },
  {
   "cell_type": "code",
   "execution_count": 11,
   "metadata": {},
   "outputs": [
    {
     "name": "stdout",
     "output_type": "stream",
     "text": [
      "[0]\n",
      "한 번에 로드되는 데이터 크기: 1024\n",
      "(1, 28, 28)\n",
      "(28, 28)\n",
      "(1, 28, 28)\n",
      "(28, 28)\n",
      "(1, 28, 28)\n",
      "(28, 28)\n"
     ]
    },
    {
     "data": {
      "image/png": "[encoded data removed]",
      "text/plain": [
       "<Figure size 432x288 with 3 Axes>"
      ]
     },
     "metadata": {
      "needs_background": "light"
     },
     "output_type": "display_data"
    },
    {
     "name": "stdout",
     "output_type": "stream",
     "text": [
      "[1]\n",
      "한 번에 로드되는 데이터 크기: 1024\n",
      "(1, 28, 28)\n",
      "(28, 28)\n",
      "(1, 28, 28)\n",
      "(28, 28)\n",
      "(1, 28, 28)\n",
      "(28, 28)\n"
     ]
    },
    {
     "data": {
      "image/png": "[encoded data removed]",
      "text/plain": [
       "<Figure size 432x288 with 3 Axes>"
      ]
     },
     "metadata": {
      "needs_background": "light"
     },
     "output_type": "display_data"
    },
    {
     "name": "stdout",
     "output_type": "stream",
     "text": [
      "[2]\n",
      "한 번에 로드되는 데이터 크기: 1024\n",
      "(1, 28, 28)\n",
      "(28, 28)\n",
      "(1, 28, 28)\n",
      "(28, 28)\n",
      "(1, 28, 28)\n",
      "(28, 28)\n"
     ]
    },
    {
     "data": {
      "image/png": "[encoded data removed]",
      "text/plain": [
       "<Figure size 432x288 with 3 Axes>"
      ]
     },
     "metadata": {
      "needs_background": "light"
     },
     "output_type": "display_data"
    },
    {
     "name": "stdout",
     "output_type": "stream",
     "text": [
      "[3]\n",
      "한 번에 로드되는 데이터 크기: 1024\n",
      "(1, 28, 28)\n",
      "(28, 28)\n",
      "(1, 28, 28)\n",
      "(28, 28)\n",
      "(1, 28, 28)\n",
      "(28, 28)\n"
     ]
    },
    {
     "data": {
      "image/png": "[encoded data removed]",
      "text/plain": [
       "<Figure size 432x288 with 3 Axes>"
      ]
     },
     "metadata": {
      "needs_background": "light"
     },
     "output_type": "display_data"
    },
    {
     "name": "stdout",
     "output_type": "stream",
     "text": [
      "[4]\n",
      "한 번에 로드되는 데이터 크기: 1024\n",
      "(1, 28, 28)\n",
      "(28, 28)\n",
      "(1, 28, 28)\n",
      "(28, 28)\n",
      "(1, 28, 28)\n",
      "(28, 28)\n"
     ]
    },
    {
     "data": {
      "image/png": "[encoded data removed]",
      "text/plain": [
       "<Figure size 432x288 with 3 Axes>"
      ]
     },
     "metadata": {
      "needs_background": "light"
     },
     "output_type": "display_data"
    },
    {
     "name": "stdout",
     "output_type": "stream",
     "text": [
      "[5]\n",
      "한 번에 로드되는 데이터 크기: 1024\n",
      "(1, 28, 28)\n",
      "(28, 28)\n",
      "(1, 28, 28)\n",
      "(28, 28)\n",
      "(1, 28, 28)\n",
      "(28, 28)\n"
     ]
    },
    {
     "data": {
      "image/png": "[encoded data removed]",
      "text/plain": [
       "<Figure size 432x288 with 3 Axes>"
      ]
     },
     "metadata": {
      "needs_background": "light"
     },
     "output_type": "display_data"
    }
   ],
   "source": [
    "n = 3 # 샘플로 그려볼 데이터 갯수\n",
    "for i, [imgs, labels] in enumerate(test_loader): # batch_size 만큼\n",
    "    if i>5:\n",
    "        break\n",
    "    \n",
    "    print(\"[%d]\" %i)\n",
    "    print(\"한 번에 로드되는 데이터 크기:\", len(imgs))\n",
    "    \n",
    "    # 그리기\n",
    "    for j in range(n):\n",
    "        img = imgs[j].numpy() # image 타입을 numpy로 변환 (1, 28, 28)\n",
    "        print(img.shape)\n",
    "        img = img.reshape((img.shape[1], img.shape[2])) # (1, 28, 28) → (28, 28)\n",
    "        print(img.shape)\n",
    "        \n",
    "        plt.subplot(1, n, j+1) # (1, 3) 형태 plot의 j번째 자리에 그리겠다.\n",
    "        plt.imshow(img, cmap='gray')\n",
    "        plt.title(\"label: %d\" %labels[j])\n",
    "    plt.show()"
   ]
  },
  {
   "cell_type": "markdown",
   "metadata": {},
   "source": [
    "# 4. 모델 선언"
   ]
  },
  {
   "cell_type": "code",
   "execution_count": 12,
   "metadata": {},
   "outputs": [],
   "source": [
    "# 모델 선언\n",
    "# * 퍼셉트론(2 hidden layer) *\n",
    "model = nn.Sequential(\n",
    "    nn.Linear(28*28, 256), # fully connected\n",
    "    nn.Sigmoid(),\n",
    "    nn.Linear(256, 128),\n",
    "    nn.Linear(128, 10)\n",
    ")"
   ]
  },
  {
   "cell_type": "code",
   "execution_count": 13,
   "metadata": {
    "scrolled": true
   },
   "outputs": [
    {
     "name": "stdout",
     "output_type": "stream",
     "text": [
      "[Parameter containing:\n",
      "tensor([[ 0.0064, -0.0228,  0.0012,  ...,  0.0266, -0.0299, -0.0049],\n",
      "        [ 0.0265,  0.0181,  0.0180,  ..., -0.0117, -0.0151,  0.0031],\n",
      "        [-0.0144,  0.0180,  0.0177,  ...,  0.0245, -0.0147, -0.0321],\n",
      "        ...,\n",
      "        [ 0.0270,  0.0151,  0.0254,  ...,  0.0283,  0.0310, -0.0133],\n",
      "        [ 0.0201,  0.0215, -0.0331,  ..., -0.0098,  0.0241,  0.0082],\n",
      "        [-0.0292, -0.0261,  0.0183,  ...,  0.0006, -0.0105, -0.0046]],\n",
      "       requires_grad=True), Parameter containing:\n",
      "tensor([ 2.8988e-02, -3.0944e-02,  1.1662e-02,  1.5532e-02, -6.9045e-03,\n",
      "         2.8333e-02,  2.8179e-02, -1.9827e-02,  2.9573e-02,  4.3718e-03,\n",
      "        -3.2806e-02, -2.9916e-02, -3.4442e-03,  1.5089e-02, -2.8516e-03,\n",
      "         1.1751e-02,  1.7895e-03,  3.3497e-02,  1.0319e-02, -2.7984e-02,\n",
      "        -4.7268e-03, -6.7959e-03, -1.5171e-02, -3.4933e-02, -2.8886e-02,\n",
      "        -2.2519e-02,  4.9295e-03,  2.7085e-02,  2.4411e-03,  2.0822e-02,\n",
      "         8.9216e-03, -2.4335e-04,  8.2041e-03, -9.0764e-03,  1.4697e-02,\n",
      "         2.1461e-02,  5.3116e-03,  1.8545e-02,  3.0110e-02,  1.3947e-02,\n",
      "        -1.9964e-02, -6.2336e-03,  2.2573e-02,  3.2676e-02,  3.5363e-02,\n",
      "        -2.1405e-04,  2.2472e-02, -7.9474e-04,  2.4045e-02, -2.0786e-02,\n",
      "         3.3496e-02, -1.0839e-02,  1.4933e-02,  1.7867e-02, -2.4100e-02,\n",
      "         2.2005e-02, -8.0730e-03,  9.2952e-03, -1.2708e-02, -2.5078e-02,\n",
      "        -2.5468e-02, -1.4208e-02,  2.9511e-02, -7.4764e-03,  3.5714e-02,\n",
      "        -2.9754e-02, -2.3932e-02, -1.1839e-02, -3.2273e-02, -1.6479e-02,\n",
      "         1.7051e-02,  3.1400e-02, -1.8042e-02, -2.0724e-02,  2.0638e-02,\n",
      "        -3.4660e-02,  2.9137e-02, -1.6671e-04, -1.8145e-02, -2.5255e-02,\n",
      "         3.3919e-02,  2.9455e-02, -2.5924e-02,  3.5217e-02,  2.9643e-02,\n",
      "        -1.7153e-02, -3.1782e-02, -6.3826e-03, -2.0935e-02, -3.0397e-02,\n",
      "         1.5873e-03,  1.4813e-02, -2.7236e-02,  3.3328e-02,  1.5048e-02,\n",
      "        -2.9446e-02, -5.4039e-03, -7.1610e-03, -5.2416e-03, -6.0726e-03,\n",
      "        -2.0498e-02, -2.4574e-02, -2.6097e-02,  2.0847e-02,  3.2026e-02,\n",
      "        -1.1477e-02, -2.5252e-02, -1.7852e-02,  1.9574e-02,  1.6973e-02,\n",
      "         2.2632e-02,  3.4936e-02,  8.2062e-03,  2.3712e-02,  2.9377e-02,\n",
      "         1.0697e-02, -1.3145e-02, -2.4902e-02,  7.5851e-05, -2.2161e-02,\n",
      "         3.5468e-02,  8.9113e-03, -9.3543e-03, -3.1871e-02,  1.8206e-02,\n",
      "        -3.3945e-02,  1.9692e-02, -3.4458e-02, -1.9268e-02,  3.0204e-04,\n",
      "        -8.1457e-03, -1.7023e-02, -1.4763e-02, -1.4476e-02, -2.6027e-03,\n",
      "        -7.7075e-03,  1.7659e-02,  3.4170e-02, -3.0016e-02, -2.9119e-02,\n",
      "        -4.1375e-03, -3.0400e-02,  3.2889e-02, -7.0797e-03,  2.5636e-02,\n",
      "        -3.5262e-02,  3.1636e-02, -1.3279e-03,  1.9864e-02,  3.2276e-03,\n",
      "        -8.4713e-03, -2.3866e-02, -1.0093e-02, -1.2460e-02,  9.9713e-03,\n",
      "        -1.6542e-03,  3.5068e-03,  1.9654e-02,  1.3582e-02, -6.4121e-03,\n",
      "        -2.6633e-02,  8.9545e-03, -3.2958e-02,  3.1121e-02, -5.0930e-03,\n",
      "         2.2174e-02, -7.9602e-03, -1.8851e-02,  3.1246e-03, -6.9865e-03,\n",
      "         2.9812e-03, -1.8027e-02, -1.9238e-02,  2.7001e-02, -2.7989e-02,\n",
      "         2.3056e-02, -3.4831e-02, -2.7052e-02, -2.5010e-02,  1.5868e-02,\n",
      "        -1.9916e-02,  3.5050e-02, -1.1127e-02, -2.3113e-02, -1.9258e-02,\n",
      "        -3.4208e-02,  1.2657e-03, -1.6728e-03,  3.1622e-02, -2.7552e-02,\n",
      "        -2.6164e-02, -2.7476e-02,  2.0777e-02, -2.7236e-02, -7.0726e-03,\n",
      "        -1.2108e-02, -1.0984e-02, -3.3354e-02, -2.6103e-02, -3.4104e-02,\n",
      "        -2.6794e-02,  3.1732e-02, -1.3510e-02, -1.1699e-02, -2.3274e-02,\n",
      "        -6.7823e-03, -2.0964e-02,  2.8782e-02, -8.5664e-03, -2.2909e-02,\n",
      "        -1.0372e-02,  2.1326e-02,  2.5622e-02, -2.7713e-02,  5.0767e-03,\n",
      "        -3.1836e-02,  2.4210e-02,  8.6199e-03, -5.5747e-03, -1.6901e-02,\n",
      "         3.2796e-02, -7.9637e-03, -1.8348e-02,  3.0061e-02, -1.0407e-02,\n",
      "        -3.3299e-02, -3.9927e-03, -8.8959e-03,  2.4239e-02, -3.1091e-02,\n",
      "        -2.7417e-02, -3.1776e-02, -6.8330e-03,  1.3227e-02, -1.4670e-02,\n",
      "        -3.3850e-02, -2.1063e-02,  2.9171e-02,  3.4240e-02,  6.0731e-03,\n",
      "         1.1339e-02,  1.4932e-02,  2.2080e-02, -1.5966e-02, -2.9531e-02,\n",
      "        -1.2871e-02, -8.3233e-03, -1.0068e-02,  9.2779e-03,  1.5993e-02,\n",
      "         3.0259e-02, -1.0580e-02,  2.3606e-02,  1.3098e-02, -6.9013e-03,\n",
      "         3.2210e-02], requires_grad=True), Parameter containing:\n",
      "tensor([[ 0.0409,  0.0177, -0.0118,  ..., -0.0074, -0.0090,  0.0283],\n",
      "        [ 0.0095,  0.0055,  0.0401,  ..., -0.0563, -0.0266, -0.0079],\n",
      "        [ 0.0474, -0.0438, -0.0005,  ..., -0.0605,  0.0507, -0.0001],\n",
      "        ...,\n",
      "        [ 0.0496,  0.0092,  0.0404,  ...,  0.0563,  0.0320,  0.0401],\n",
      "        [-0.0238, -0.0603, -0.0439,  ...,  0.0372,  0.0572, -0.0584],\n",
      "        [-0.0418, -0.0356,  0.0070,  ..., -0.0047, -0.0524,  0.0152]],\n",
      "       requires_grad=True), Parameter containing:\n",
      "tensor([-0.0325, -0.0032,  0.0604,  0.0368,  0.0491,  0.0315,  0.0085,  0.0415,\n",
      "         0.0429, -0.0339, -0.0252, -0.0341, -0.0316, -0.0029, -0.0570, -0.0073,\n",
      "         0.0224, -0.0495,  0.0230, -0.0045, -0.0442,  0.0358,  0.0219, -0.0102,\n",
      "         0.0079, -0.0365, -0.0024, -0.0410, -0.0175,  0.0363,  0.0622,  0.0278,\n",
      "        -0.0357, -0.0459,  0.0161,  0.0577, -0.0347, -0.0595,  0.0491, -0.0518,\n",
      "        -0.0608,  0.0611, -0.0141, -0.0615,  0.0429, -0.0499, -0.0244,  0.0062,\n",
      "        -0.0428, -0.0548,  0.0486,  0.0041,  0.0506, -0.0061, -0.0590,  0.0163,\n",
      "         0.0514,  0.0266,  0.0108,  0.0158,  0.0484, -0.0250,  0.0059, -0.0093,\n",
      "         0.0060, -0.0142, -0.0062, -0.0242,  0.0320,  0.0593, -0.0360, -0.0145,\n",
      "        -0.0526, -0.0624,  0.0352, -0.0158,  0.0085, -0.0487,  0.0430,  0.0272,\n",
      "         0.0339, -0.0378, -0.0311,  0.0221,  0.0558,  0.0162,  0.0119, -0.0421,\n",
      "         0.0422,  0.0287,  0.0068,  0.0175,  0.0073,  0.0215,  0.0317,  0.0204,\n",
      "         0.0109,  0.0271,  0.0616, -0.0372, -0.0464,  0.0600, -0.0516,  0.0494,\n",
      "        -0.0523,  0.0480, -0.0412,  0.0591,  0.0537,  0.0561, -0.0498,  0.0030,\n",
      "         0.0335,  0.0159,  0.0413,  0.0254, -0.0582, -0.0355,  0.0325,  0.0034,\n",
      "        -0.0196, -0.0616, -0.0523,  0.0238,  0.0310,  0.0588,  0.0145, -0.0584],\n",
      "       requires_grad=True), Parameter containing:\n",
      "tensor([[-0.0163, -0.0378, -0.0831,  ..., -0.0095, -0.0144,  0.0452],\n",
      "        [ 0.0700,  0.0037, -0.0148,  ..., -0.0761,  0.0561, -0.0059],\n",
      "        [ 0.0829, -0.0871,  0.0012,  ...,  0.0691, -0.0197,  0.0283],\n",
      "        ...,\n",
      "        [-0.0463, -0.0348,  0.0704,  ..., -0.0637, -0.0274, -0.0488],\n",
      "        [ 0.0559,  0.0716, -0.0324,  ...,  0.0524, -0.0816, -0.0262],\n",
      "        [ 0.0165, -0.0655, -0.0310,  ...,  0.0096,  0.0776, -0.0435]],\n",
      "       requires_grad=True), Parameter containing:\n",
      "tensor([ 0.0739,  0.0583, -0.0778,  0.0009, -0.0477,  0.0708, -0.0867,  0.0132,\n",
      "        -0.0816,  0.0726], requires_grad=True)]\n"
     ]
    }
   ],
   "source": [
    "print(list(model.parameters())) # 초기 파라미터 출력"
   ]
  },
  {
   "cell_type": "code",
   "execution_count": 14,
   "metadata": {},
   "outputs": [],
   "source": [
    "model = model.to(device)\n",
    "# model = model.cuda() # GPU 가속 사용"
   ]
  },
  {
   "cell_type": "code",
   "execution_count": 15,
   "metadata": {},
   "outputs": [],
   "source": [
    "def ComputeAccr(dloader, imodel):\n",
    "    correct = 0\n",
    "    total = 0\n",
    "    \n",
    "    for j, [imgs, labels] in enumerate(dloader): # batch_size 만큼\n",
    "        img = imgs # x\n",
    "        label = Variable(labels).to(device) # y\n",
    "        # 파이토치에서 모델에다가 어떤 데이터를 넣을때, Variable이라는 키워드로 씌워줘야 한다. (Pytorch 문법)\n",
    "        # .cuda() GPU에 로드되기 위함. 만약 CPU로 설정되어 있다면 에러남\n",
    "        \n",
    "        # (batch_size, 1, 28, 28) → (batch_size, 28, 28)\n",
    "        img = img.reshape((img.shape[0], img.shape[2], img.shape[3]))\n",
    "        # (batch_size, 28, 28) → (batch_size, 28*28)\n",
    "        img = img.reshape((img.shape[0], img.shape[1]*img.shape[2]))\n",
    "        img = Variable(img, requires_grad = False).to(device) # .cuda() # back propagation 사용여부\n",
    "        \n",
    "        output = imodel(img) # forward prop.\n",
    "        _, output_index = torch.max(output, 1)\n",
    "        \n",
    "        total += label.size(0) # batch_size씩 더함\n",
    "        correct += (output_index == label).sum().float() # y_hat ↔ y\n",
    "    print(\"Accuracy of Test Data: {}\".format(100*correct/total))"
   ]
  },
  {
   "cell_type": "code",
   "execution_count": 16,
   "metadata": {},
   "outputs": [
    {
     "name": "stdout",
     "output_type": "stream",
     "text": [
      "Accuracy of Test Data: 9.733073234558105\n"
     ]
    }
   ],
   "source": [
    "ComputeAccr(test_loader, model) # 학습을 시키지 않은 상태"
   ]
  },
  {
   "cell_type": "markdown",
   "metadata": {},
   "source": [
    "# 5. loss, optimizer"
   ]
  },
  {
   "cell_type": "code",
   "execution_count": 17,
   "metadata": {},
   "outputs": [],
   "source": [
    "loss_func = nn.CrossEntropyLoss() # 분류 → 크로스엔트로피 → logit(# of classes), target(1) \n",
    "optimizer = optim.SGD(model.parameters(), lr=learning_rate) # 최적화 방법: Stochastic Gradient Descent"
   ]
  },
  {
   "cell_type": "markdown",
   "metadata": {},
   "source": [
    "# 6. 학습"
   ]
  },
  {
   "cell_type": "code",
   "execution_count": 18,
   "metadata": {
    "scrolled": true
   },
   "outputs": [
    {
     "name": "stdout",
     "output_type": "stream",
     "text": [
      "0..\n",
      "Accuracy of Test Data: 11.61024284362793\n",
      "tensor(2.2967, device='cuda:0', grad_fn=<NllLossBackward>)\n",
      "Running Time: 4.813137 s\n",
      "\n",
      "10..\n",
      "Accuracy of Test Data: 40.36458206176758\n",
      "tensor(2.2088, device='cuda:0', grad_fn=<NllLossBackward>)\n",
      "Running Time: 33.429637 s\n",
      "\n",
      "20..\n",
      "Accuracy of Test Data: 56.86848831176758\n",
      "tensor(1.9133, device='cuda:0', grad_fn=<NllLossBackward>)\n",
      "Running Time: 32.465227 s\n",
      "\n",
      "30..\n",
      "Accuracy of Test Data: 67.81684112548828\n",
      "tensor(1.2999, device='cuda:0', grad_fn=<NllLossBackward>)\n",
      "Running Time: 32.208900 s\n",
      "\n",
      "40..\n",
      "Accuracy of Test Data: 75.54253387451172\n",
      "tensor(0.9195, device='cuda:0', grad_fn=<NllLossBackward>)\n",
      "Running Time: 32.238832 s\n",
      "\n",
      "50..\n",
      "Accuracy of Test Data: 80.44705200195312\n",
      "tensor(0.7442, device='cuda:0', grad_fn=<NllLossBackward>)\n",
      "Running Time: 32.057334 s\n",
      "\n",
      "60..\n",
      "Accuracy of Test Data: 83.47439575195312\n",
      "tensor(0.6179, device='cuda:0', grad_fn=<NllLossBackward>)\n",
      "Running Time: 32.172010 s\n",
      "\n",
      "70..\n",
      "Accuracy of Test Data: 84.95008850097656\n",
      "tensor(0.5162, device='cuda:0', grad_fn=<NllLossBackward>)\n",
      "Running Time: 32.019419 s\n",
      "\n",
      "80..\n",
      "Accuracy of Test Data: 86.39322662353516\n",
      "tensor(0.4934, device='cuda:0', grad_fn=<NllLossBackward>)\n",
      "Running Time: 32.310663 s\n",
      "\n",
      "90..\n",
      "Accuracy of Test Data: 87.56510162353516\n",
      "tensor(0.4548, device='cuda:0', grad_fn=<NllLossBackward>)\n",
      "Running Time: 32.032384 s\n",
      "\n",
      "100..\n",
      "Accuracy of Test Data: 88.27040100097656\n",
      "tensor(0.3988, device='cuda:0', grad_fn=<NllLossBackward>)\n",
      "Running Time: 32.114165 s\n",
      "\n",
      "110..\n",
      "Accuracy of Test Data: 88.7912368774414\n",
      "tensor(0.4367, device='cuda:0', grad_fn=<NllLossBackward>)\n",
      "Running Time: 32.204924 s\n",
      "\n",
      "120..\n",
      "Accuracy of Test Data: 89.20355987548828\n",
      "tensor(0.3588, device='cuda:0', grad_fn=<NllLossBackward>)\n",
      "Running Time: 32.047344 s\n",
      "\n",
      "130..\n",
      "Accuracy of Test Data: 89.55078125\n",
      "tensor(0.3689, device='cuda:0', grad_fn=<NllLossBackward>)\n",
      "Running Time: 32.021413 s\n",
      "\n",
      "140..\n",
      "Accuracy of Test Data: 89.84375\n",
      "tensor(0.3323, device='cuda:0', grad_fn=<NllLossBackward>)\n",
      "Running Time: 32.089242 s\n",
      "\n",
      "150..\n",
      "Accuracy of Test Data: 90.0607681274414\n",
      "tensor(0.3407, device='cuda:0', grad_fn=<NllLossBackward>)\n",
      "Running Time: 32.155042 s\n",
      "\n",
      "160..\n",
      "Accuracy of Test Data: 90.21267700195312\n",
      "tensor(0.3734, device='cuda:0', grad_fn=<NllLossBackward>)\n",
      "Running Time: 32.022433 s\n",
      "\n",
      "170..\n",
      "Accuracy of Test Data: 90.37543487548828\n",
      "tensor(0.2980, device='cuda:0', grad_fn=<NllLossBackward>)\n",
      "Running Time: 32.113170 s\n",
      "\n",
      "180..\n",
      "Accuracy of Test Data: 90.58159637451172\n",
      "tensor(0.3704, device='cuda:0', grad_fn=<NllLossBackward>)\n",
      "Running Time: 32.814288 s\n",
      "\n",
      "190..\n",
      "Accuracy of Test Data: 90.73350524902344\n",
      "tensor(0.3559, device='cuda:0', grad_fn=<NllLossBackward>)\n",
      "Running Time: 36.145921 s\n",
      "\n",
      "200..\n",
      "Accuracy of Test Data: 90.8203125\n",
      "tensor(0.2746, device='cuda:0', grad_fn=<NllLossBackward>)\n",
      "Running Time: 36.354478 s\n",
      "\n",
      "210..\n",
      "Accuracy of Test Data: 90.95052337646484\n",
      "tensor(0.3449, device='cuda:0', grad_fn=<NllLossBackward>)\n",
      "Running Time: 35.437346 s\n",
      "\n",
      "220..\n",
      "Accuracy of Test Data: 91.08072662353516\n",
      "tensor(0.3516, device='cuda:0', grad_fn=<NllLossBackward>)\n",
      "Running Time: 35.776104 s\n",
      "\n",
      "230..\n",
      "Accuracy of Test Data: 91.14583587646484\n",
      "tensor(0.3056, device='cuda:0', grad_fn=<NllLossBackward>)\n",
      "Running Time: 35.023514 s\n",
      "\n",
      "240..\n",
      "Accuracy of Test Data: 91.28689575195312\n",
      "tensor(0.3271, device='cuda:0', grad_fn=<NllLossBackward>)\n",
      "Running Time: 35.090325 s\n",
      "\n",
      "250..\n",
      "Accuracy of Test Data: 91.36284637451172\n",
      "tensor(0.2756, device='cuda:0', grad_fn=<NllLossBackward>)\n",
      "Running Time: 34.426419 s\n",
      "\n",
      "260..\n",
      "Accuracy of Test Data: 91.37369537353516\n",
      "tensor(0.3176, device='cuda:0', grad_fn=<NllLossBackward>)\n",
      "Running Time: 34.683551 s\n",
      "\n",
      "270..\n",
      "Accuracy of Test Data: 91.48220825195312\n",
      "tensor(0.3187, device='cuda:0', grad_fn=<NllLossBackward>)\n",
      "Running Time: 34.998246 s\n",
      "\n",
      "280..\n",
      "Accuracy of Test Data: 91.5256118774414\n",
      "tensor(0.3262, device='cuda:0', grad_fn=<NllLossBackward>)\n",
      "Running Time: 35.030596 s\n",
      "\n",
      "290..\n",
      "Accuracy of Test Data: 91.64496612548828\n",
      "tensor(0.3209, device='cuda:0', grad_fn=<NllLossBackward>)\n",
      "Running Time: 34.743475 s\n",
      "\n",
      "300..\n",
      "Accuracy of Test Data: 91.7209243774414\n",
      "tensor(0.3466, device='cuda:0', grad_fn=<NllLossBackward>)\n",
      "Running Time: 35.563346 s\n",
      "\n",
      "310..\n",
      "Accuracy of Test Data: 91.69921875\n",
      "tensor(0.3029, device='cuda:0', grad_fn=<NllLossBackward>)\n",
      "Running Time: 34.812555 s\n",
      "\n",
      "320..\n",
      "Accuracy of Test Data: 91.87283325195312\n",
      "tensor(0.2617, device='cuda:0', grad_fn=<NllLossBackward>)\n",
      "Running Time: 34.779252 s\n",
      "\n",
      "330..\n",
      "Accuracy of Test Data: 91.85112762451172\n",
      "tensor(0.2705, device='cuda:0', grad_fn=<NllLossBackward>)\n",
      "Running Time: 34.776942 s\n",
      "\n",
      "340..\n",
      "Accuracy of Test Data: 91.88368225097656\n",
      "tensor(0.2658, device='cuda:0', grad_fn=<NllLossBackward>)\n",
      "Running Time: 34.594347 s\n",
      "\n",
      "350..\n",
      "Accuracy of Test Data: 91.97048950195312\n",
      "tensor(0.3150, device='cuda:0', grad_fn=<NllLossBackward>)\n",
      "Running Time: 35.190775 s\n",
      "\n",
      "360..\n",
      "Accuracy of Test Data: 92.00303649902344\n",
      "tensor(0.2491, device='cuda:0', grad_fn=<NllLossBackward>)\n",
      "Running Time: 34.565150 s\n",
      "\n",
      "370..\n",
      "Accuracy of Test Data: 92.00303649902344\n",
      "tensor(0.3036, device='cuda:0', grad_fn=<NllLossBackward>)\n",
      "Running Time: 34.614569 s\n",
      "\n",
      "380..\n",
      "Accuracy of Test Data: 91.97048950195312\n",
      "tensor(0.3184, device='cuda:0', grad_fn=<NllLossBackward>)\n",
      "Running Time: 34.922533 s\n",
      "\n",
      "390..\n",
      "Accuracy of Test Data: 92.04644012451172\n",
      "tensor(0.3244, device='cuda:0', grad_fn=<NllLossBackward>)\n",
      "Running Time: 35.109084 s\n",
      "\n",
      "\n",
      "Total Running Time: 1352.150125 s\n"
     ]
    }
   ],
   "source": [
    "import time\n",
    "start_total = time.time()\n",
    "start = time.time()\n",
    "\n",
    "for i in range(num_epoch): \n",
    "    for j, [imgs, labels] in enumerate(train_loader): # batch_size 만큼\n",
    "        \n",
    "        img = imgs # (batch_size, 1, 28, 28)\n",
    "        label = Variable(labels).to(device) # .cuda() # (batch_size)\n",
    "        \n",
    "        # (batch_size, 1, 28, 28) → (batch_size, 28, 28)\n",
    "        img = img.reshape((img.shape[0], img.shape[2], img.shape[3]))\n",
    "        # (batch_size, 28, 28) → (batch_size, 28*28)\n",
    "        img = img.reshape((img.shape[0], img.shape[1]*img.shape[2]))\n",
    "        img = Variable(img, requires_grad = True).to(device) # .cuda() # back propagation 사용여부\n",
    "        \n",
    "        optimizer.zero_grad()\n",
    "        output = model(img) # forward prop.\n",
    "        loss = loss_func(output, label) # logit(# of classes), target(1)\n",
    "        # img,output,label → (batch_size, 28*28), (batch_size, # of classes), (batch_size, 1)\n",
    "\n",
    "        loss.backward() # back prop. - Gradient를 계산해서 각 노드에 저장\n",
    "        optimizer.step() # weight 조정 - 저장된 Gradient를 이용해서 weight를 업데이트\n",
    "        \n",
    "    if i%10==0:\n",
    "        print(\"%d..\" %i)\n",
    "        ComputeAccr(test_loader, model)        \n",
    "        print(loss)\n",
    "        \n",
    "        end = time.time()\n",
    "        print(\"Running Time: %f s\\n\" %(end - start))\n",
    "        start = time.time()\n",
    "\n",
    "end_total = time.time()\n",
    "print(\"\\nTotal Running Time: %f s\" %(end_total - start_total))"
   ]
  },
  {
   "cell_type": "markdown",
   "metadata": {},
   "source": [
    "# 7. 테스트"
   ]
  },
  {
   "cell_type": "code",
   "execution_count": 19,
   "metadata": {},
   "outputs": [
    {
     "name": "stdout",
     "output_type": "stream",
     "text": [
      "Accuracy of Test Data: 92.05728912353516\n"
     ]
    }
   ],
   "source": [
    "ComputeAccr(test_loader, model)"
   ]
  },
  {
   "cell_type": "markdown",
   "metadata": {},
   "source": [
    "# 8. 학습된 파라미터 저장"
   ]
  },
  {
   "cell_type": "code",
   "execution_count": 20,
   "metadata": {},
   "outputs": [],
   "source": [
    "netname = './nets/mlp_weight.pkl'\n",
    "torch.save(model, netname, )\n",
    "\n",
    "# model = torch.load(netname) # 이어서 학습하기"
   ]
  },
  {
   "cell_type": "markdown",
   "metadata": {},
   "source": [
    "# 9. 실습1에 쓰인 .npz를 만드려면?"
   ]
  },
  {
   "cell_type": "code",
   "execution_count": 21,
   "metadata": {
    "scrolled": true
   },
   "outputs": [
    {
     "name": "stdout",
     "output_type": "stream",
     "text": [
      "[Parameter containing:\n",
      "tensor([[ 0.0064, -0.0228,  0.0012,  ...,  0.0266, -0.0299, -0.0049],\n",
      "        [ 0.0265,  0.0181,  0.0180,  ..., -0.0117, -0.0151,  0.0031],\n",
      "        [-0.0144,  0.0180,  0.0177,  ...,  0.0245, -0.0147, -0.0321],\n",
      "        ...,\n",
      "        [ 0.0270,  0.0151,  0.0254,  ...,  0.0283,  0.0310, -0.0133],\n",
      "        [ 0.0201,  0.0215, -0.0331,  ..., -0.0098,  0.0241,  0.0082],\n",
      "        [-0.0292, -0.0261,  0.0183,  ...,  0.0006, -0.0105, -0.0046]],\n",
      "       device='cuda:0', requires_grad=True), Parameter containing:\n",
      "tensor([ 0.0280, -0.0359,  0.0148,  0.0179, -0.0227,  0.0265,  0.0263, -0.0124,\n",
      "         0.0308, -0.0051, -0.0280, -0.0409, -0.0061,  0.0163, -0.0047,  0.0128,\n",
      "        -0.0012,  0.0405,  0.0041, -0.0297,  0.0041,  0.0090, -0.0258, -0.0253,\n",
      "        -0.0205, -0.0332, -0.0124,  0.0266,  0.0130,  0.0260,  0.0014,  0.0080,\n",
      "         0.0075,  0.0027,  0.0055,  0.0356,  0.0006,  0.0349,  0.0050,  0.0192,\n",
      "        -0.0122, -0.0034,  0.0361,  0.0310,  0.0346,  0.0039,  0.0255, -0.0013,\n",
      "         0.0233, -0.0194,  0.0281,  0.0030,  0.0194,  0.0094, -0.0177,  0.0154,\n",
      "        -0.0080,  0.0159, -0.0017, -0.0296, -0.0236, -0.0126,  0.0232, -0.0063,\n",
      "         0.0278, -0.0294, -0.0248, -0.0100, -0.0323, -0.0235,  0.0180,  0.0426,\n",
      "        -0.0325, -0.0080,  0.0192, -0.0272,  0.0330, -0.0002, -0.0157, -0.0192,\n",
      "         0.0564,  0.0285, -0.0160,  0.0356,  0.0235, -0.0137, -0.0412, -0.0042,\n",
      "        -0.0288, -0.0261,  0.0068,  0.0091, -0.0198,  0.0337,  0.0243, -0.0324,\n",
      "        -0.0169, -0.0077, -0.0179, -0.0047, -0.0280, -0.0291, -0.0258,  0.0299,\n",
      "         0.0275, -0.0108, -0.0234, -0.0043,  0.0082,  0.0273,  0.0208,  0.0317,\n",
      "         0.0070,  0.0235,  0.0293,  0.0068, -0.0152, -0.0132, -0.0059, -0.0193,\n",
      "         0.0306,  0.0127, -0.0055, -0.0306,  0.0340, -0.0252,  0.0245, -0.0401,\n",
      "        -0.0268, -0.0029, -0.0094, -0.0035, -0.0393, -0.0069,  0.0025, -0.0020,\n",
      "         0.0190,  0.0327, -0.0267, -0.0376, -0.0064, -0.0348,  0.0126, -0.0141,\n",
      "         0.0387, -0.0266,  0.0318,  0.0013,  0.0194, -0.0260, -0.0147, -0.0267,\n",
      "        -0.0107, -0.0104,  0.0105, -0.0133, -0.0053,  0.0180,  0.0003,  0.0040,\n",
      "        -0.0220, -0.0010, -0.0358,  0.0310, -0.0063,  0.0223, -0.0078, -0.0218,\n",
      "         0.0024, -0.0095,  0.0040, -0.0147, -0.0157,  0.0376, -0.0294,  0.0159,\n",
      "        -0.0325, -0.0288, -0.0150, -0.0024, -0.0065,  0.0434, -0.0149, -0.0248,\n",
      "        -0.0130, -0.0307,  0.0017,  0.0012,  0.0237, -0.0337, -0.0155, -0.0334,\n",
      "         0.0083, -0.0168,  0.0055, -0.0172, -0.0177, -0.0499, -0.0301, -0.0470,\n",
      "        -0.0302,  0.0399, -0.0110, -0.0076, -0.0320, -0.0069, -0.0206,  0.0371,\n",
      "        -0.0292, -0.0185, -0.0169,  0.0214,  0.0291, -0.0265,  0.0062, -0.0366,\n",
      "         0.0194, -0.0129, -0.0207, -0.0279,  0.0435, -0.0180, -0.0165,  0.0183,\n",
      "        -0.0151, -0.0359, -0.0073, -0.0137,  0.0313, -0.0344, -0.0248, -0.0347,\n",
      "        -0.0171,  0.0070,  0.0146, -0.0243, -0.0291,  0.0234,  0.0338,  0.0048,\n",
      "        -0.0060,  0.0022,  0.0395, -0.0107, -0.0353, -0.0129, -0.0053,  0.0011,\n",
      "         0.0056,  0.0035,  0.0391, -0.0130,  0.0281,  0.0145, -0.0016,  0.0290],\n",
      "       device='cuda:0', requires_grad=True), Parameter containing:\n",
      "tensor([[ 0.0250,  0.0125, -0.0080,  ..., -0.0227, -0.0398,  0.0321],\n",
      "        [ 0.0776,  0.0275,  0.0257,  ..., -0.1285, -0.0633,  0.0354],\n",
      "        [ 0.0782,  0.0309,  0.0438,  ..., -0.0866,  0.0788,  0.0070],\n",
      "        ...,\n",
      "        [ 0.0066, -0.0319,  0.0364,  ...,  0.0382, -0.0133,  0.0117],\n",
      "        [-0.0339, -0.1078, -0.0452,  ...,  0.0684,  0.0738, -0.0764],\n",
      "        [-0.0752, -0.0736, -0.0227,  ...,  0.0202, -0.0385,  0.0136]],\n",
      "       device='cuda:0', requires_grad=True), Parameter containing:\n",
      "tensor([-3.2662e-02, -6.0491e-03,  6.4462e-02,  3.1166e-02,  5.0949e-02,\n",
      "         3.0951e-02,  4.4791e-03,  4.3190e-02,  4.2189e-02, -3.4792e-02,\n",
      "        -2.5908e-02, -3.1822e-02, -3.2748e-02, -4.5688e-03, -5.2538e-02,\n",
      "        -8.1270e-03,  2.5812e-02, -5.0472e-02,  2.3898e-02, -7.4638e-04,\n",
      "        -4.6282e-02,  3.7425e-02,  2.3508e-02, -1.2205e-02,  8.4879e-03,\n",
      "        -3.4931e-02, -2.4880e-05, -4.1352e-02, -1.5175e-02,  3.6723e-02,\n",
      "         6.0746e-02,  2.9524e-02, -3.6663e-02, -4.2274e-02,  1.8784e-02,\n",
      "         5.7561e-02, -3.5102e-02, -5.7452e-02,  4.8741e-02, -5.2140e-02,\n",
      "        -6.0113e-02,  6.2616e-02, -1.1683e-02, -5.9836e-02,  4.0419e-02,\n",
      "        -5.3637e-02, -2.7079e-02,  2.3675e-03, -4.0093e-02, -5.1366e-02,\n",
      "         4.5919e-02,  3.3261e-03,  4.6876e-02, -6.2510e-03, -5.8655e-02,\n",
      "         1.7985e-02,  5.7937e-02,  2.1631e-02,  1.1517e-02,  2.0770e-02,\n",
      "         4.8832e-02, -2.5400e-02,  5.3536e-03, -1.1925e-02,  6.2215e-03,\n",
      "        -1.6435e-02, -5.7234e-03, -2.3761e-02,  3.6114e-02,  5.7436e-02,\n",
      "        -3.2114e-02, -1.3854e-02, -5.7603e-02, -5.9237e-02,  3.6685e-02,\n",
      "        -1.7805e-02,  8.9990e-03, -5.1390e-02,  4.0034e-02,  3.0044e-02,\n",
      "         3.3511e-02, -3.4802e-02, -2.9707e-02,  2.0948e-02,  5.6417e-02,\n",
      "         1.8423e-02,  1.0150e-02, -4.5367e-02,  3.9669e-02,  2.7172e-02,\n",
      "         8.3108e-03,  2.0258e-02,  9.4686e-03,  2.0161e-02,  2.8420e-02,\n",
      "         2.3071e-02,  8.3233e-03,  2.8085e-02,  5.8786e-02, -3.4797e-02,\n",
      "        -4.5035e-02,  6.1178e-02, -5.4477e-02,  4.4706e-02, -5.0576e-02,\n",
      "         4.4430e-02, -3.8046e-02,  6.2834e-02,  5.4663e-02,  5.3557e-02,\n",
      "        -4.7803e-02,  1.0112e-02,  3.2217e-02,  1.8331e-02,  4.3284e-02,\n",
      "         3.0408e-02, -5.7481e-02, -3.1539e-02,  3.1351e-02, -2.2414e-04,\n",
      "        -2.0558e-02, -6.0788e-02, -5.6898e-02,  2.6942e-02,  3.7731e-02,\n",
      "         5.9212e-02,  1.7415e-02, -6.0052e-02], device='cuda:0',\n",
      "       requires_grad=True), Parameter containing:\n",
      "tensor([[-0.2078, -0.0648, -0.1442,  ...,  0.0288,  0.0701,  0.1668],\n",
      "        [ 0.2491,  0.1589, -0.0599,  ..., -0.2394,  0.0062, -0.0177],\n",
      "        [ 0.1191, -0.2606, -0.0543,  ...,  0.2265, -0.1624,  0.1462],\n",
      "        ...,\n",
      "        [-0.1737, -0.0679,  0.3790,  ..., -0.3721, -0.0776, -0.0885],\n",
      "        [ 0.0507,  0.3135, -0.0393,  ...,  0.1495, -0.2547, -0.2078],\n",
      "        [-0.0430, -0.0190,  0.0887,  ..., -0.0541,  0.1241, -0.1818]],\n",
      "       device='cuda:0', requires_grad=True), Parameter containing:\n",
      "tensor([ 0.0527,  0.0673, -0.0729, -0.0118, -0.0576,  0.0940, -0.0746,  0.0245,\n",
      "        -0.0972,  0.0715], device='cuda:0', requires_grad=True)]\n"
     ]
    }
   ],
   "source": [
    "print(list(model.parameters())) # 초기 파라미터 출력"
   ]
  },
  {
   "cell_type": "code",
   "execution_count": 22,
   "metadata": {},
   "outputs": [
    {
     "name": "stdout",
     "output_type": "stream",
     "text": [
      "(256, 784) (256,)\n",
      "(128, 256) (128,)\n",
      "(10, 128) (10,)\n"
     ]
    }
   ],
   "source": [
    "param_list = list(model.parameters())\n",
    "\n",
    "W1 = param_list[0].cpu().detach().numpy() # (256, 784)\n",
    "b1 = param_list[1].cpu().detach().numpy() # (256)\n",
    "\n",
    "W2 = param_list[2].cpu().detach().numpy() # (128, 256)\n",
    "b2 = param_list[3].cpu().detach().numpy() # (128)\n",
    "\n",
    "W3 = param_list[4].cpu().detach().numpy() # (10, 128)\n",
    "b3 = param_list[5].cpu().detach().numpy() # (10)\n",
    "\n",
    "print(W1.shape, b1.shape)\n",
    "print(W2.shape, b2.shape)\n",
    "print(W3.shape, b3.shape)"
   ]
  },
  {
   "cell_type": "code",
   "execution_count": 23,
   "metadata": {},
   "outputs": [],
   "source": [
    "np.savez_compressed('./nets/mlp_weight.npz',\n",
    "                   W1=W1, b1=b1,\n",
    "                   W2=W2, b2=b2,\n",
    "                   W3=W3, b3=b3)"
   ]
  },
  {
   "cell_type": "code",
   "execution_count": 24,
   "metadata": {},
   "outputs": [
    {
     "name": "stdout",
     "output_type": "stream",
     "text": [
      "(256, 784) (256,)\n",
      "(128, 256) (128,)\n",
      "(10, 128) (10,)\n"
     ]
    }
   ],
   "source": [
    "# 불러오는 테스트\n",
    "weights = np.load('./nets/mlp_weight.npz')\n",
    "\n",
    "W1 = weights['W1']\n",
    "b1 = weights['b1']\n",
    "W2 = weights['W2']\n",
    "b2 = weights['b2']\n",
    "W3 = weights['W3']\n",
    "b3 = weights['b3']\n",
    "\n",
    "print(W1.shape, b1.shape)\n",
    "print(W2.shape, b2.shape)\n",
    "print(W3.shape, b3.shape)"
   ]
  },
  {
   "cell_type": "code",
   "execution_count": null,
   "metadata": {},
   "outputs": [],
   "source": []
  }
 ],
 "metadata": {
  "kernelspec": {
   "display_name": "Python 3",
   "language": "python",
   "name": "python3"
  },
  "language_info": {
   "codemirror_mode": {
    "name": "ipython",
    "version": 3
   },
   "file_extension": ".py",
   "mimetype": "text/x-python",
   "name": "python",
   "nbconvert_exporter": "python",
   "pygments_lexer": "ipython3",
   "version": "3.7.4"
  }
 },
 "nbformat": 4,
 "nbformat_minor": 4
}
